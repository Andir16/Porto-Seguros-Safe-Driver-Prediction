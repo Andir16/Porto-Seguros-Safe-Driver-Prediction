{
 "cells": [
  {
   "cell_type": "code",
   "execution_count": 1,
   "id": "c831bc66",
   "metadata": {
    "execution": {
     "iopub.execute_input": "2023-03-13T06:17:59.978903Z",
     "iopub.status.busy": "2023-03-13T06:17:59.978212Z",
     "iopub.status.idle": "2023-03-13T06:18:01.630631Z",
     "shell.execute_reply": "2023-03-13T06:18:01.628225Z"
    },
    "papermill": {
     "duration": 1.662785,
     "end_time": "2023-03-13T06:18:01.634284",
     "exception": false,
     "start_time": "2023-03-13T06:17:59.971499",
     "status": "completed"
    },
    "tags": []
   },
   "outputs": [],
   "source": [
    "import pandas as pd\n",
    "import numpy as np\n",
    "from numba import jit"
   ]
  },
  {
   "cell_type": "code",
   "execution_count": 2,
   "id": "4e196e95",
   "metadata": {
    "execution": {
     "iopub.execute_input": "2023-03-13T06:18:01.644359Z",
     "iopub.status.busy": "2023-03-13T06:18:01.643894Z",
     "iopub.status.idle": "2023-03-13T06:18:05.601777Z",
     "shell.execute_reply": "2023-03-13T06:18:05.599858Z"
    },
    "papermill": {
     "duration": 3.966949,
     "end_time": "2023-03-13T06:18:05.605415",
     "exception": false,
     "start_time": "2023-03-13T06:18:01.638466",
     "status": "completed"
    },
    "tags": []
   },
   "outputs": [],
   "source": [
    "@jit\n",
    "def eval_gini(y_true, y_pred):\n",
    "    y_true = np.asarray(y_true)\n",
    "    y_true = y_true[np.argsort(y_pred)]\n",
    "    ntrue = 0\n",
    "    gini = 0\n",
    "    delta = 0\n",
    "    n = len(y_true)\n",
    "    for i in range(n-1, -1, -1):\n",
    "        y_i = y_true[i]\n",
    "        ntrue += y_i\n",
    "        gini += y_i * delta\n",
    "        delta += 1 - y_i\n",
    "    gini = 1 - 2 * gini / (ntrue * (n - ntrue))\n",
    "    return gini\n",
    "lgb_oof = pd.read_csv(\"../input/safe-driver-prediction-files/lgb_oof.csv\")\n",
    "dnn_oof = pd.read_csv(\"../input/safe-driver-prediction-files/dnn_oof.csv\")\n",
    "target = pd.read_csv(\"../input/porto-seguro-safe-driver-prediction/train.csv\", usecols=['id','target'])"
   ]
  },
  {
   "cell_type": "code",
   "execution_count": 3,
   "id": "c133057d",
   "metadata": {
    "execution": {
     "iopub.execute_input": "2023-03-13T06:18:05.616154Z",
     "iopub.status.busy": "2023-03-13T06:18:05.615646Z",
     "iopub.status.idle": "2023-03-13T06:18:05.976489Z",
     "shell.execute_reply": "2023-03-13T06:18:05.974342Z"
    },
    "papermill": {
     "duration": 0.371391,
     "end_time": "2023-03-13T06:18:05.980816",
     "exception": false,
     "start_time": "2023-03-13T06:18:05.609425",
     "status": "completed"
    },
    "tags": []
   },
   "outputs": [],
   "source": [
    "lgb_oof_ranks = (lgb_oof.target.rank() / len(lgb_oof))\n",
    "dnn_oof_ranks = (dnn_oof.target.rank() / len(dnn_oof))"
   ]
  },
  {
   "cell_type": "code",
   "execution_count": 4,
   "id": "0c2dfa1d",
   "metadata": {
    "execution": {
     "iopub.execute_input": "2023-03-13T06:18:05.990099Z",
     "iopub.status.busy": "2023-03-13T06:18:05.989615Z",
     "iopub.status.idle": "2023-03-13T06:18:09.030945Z",
     "shell.execute_reply": "2023-03-13T06:18:09.029168Z"
    },
    "papermill": {
     "duration": 3.051318,
     "end_time": "2023-03-13T06:18:09.035505",
     "exception": false,
     "start_time": "2023-03-13T06:18:05.984187",
     "status": "completed"
    },
    "tags": []
   },
   "outputs": [
    {
     "name": "stderr",
     "output_type": "stream",
     "text": [
      "/tmp/ipykernel_20/773076713.py:1: NumbaWarning: \u001b[1m\n",
      "Compilation is falling back to object mode WITH looplifting enabled because Function \"eval_gini\" failed type inference due to: \u001b[1m\u001b[1mnon-precise type pyobject\u001b[0m\n",
      "\u001b[0m\u001b[1mDuring: typing of argument at /tmp/ipykernel_20/773076713.py (3)\u001b[0m\n",
      "\u001b[1m\n",
      "File \"../../tmp/ipykernel_20/773076713.py\", line 3:\u001b[0m\n",
      "\u001b[1m<source missing, REPL/exec in use?>\u001b[0m\n",
      "\u001b[0m\n",
      "  @jit\n",
      "/tmp/ipykernel_20/773076713.py:1: NumbaWarning: \u001b[1m\n",
      "Compilation is falling back to object mode WITHOUT looplifting enabled because Function \"eval_gini\" failed type inference due to: \u001b[1m\u001b[1mCannot determine Numba type of <class 'numba.core.dispatcher.LiftedLoop'>\u001b[0m\n",
      "\u001b[1m\n",
      "File \"../../tmp/ipykernel_20/773076713.py\", line 9:\u001b[0m\n",
      "\u001b[1m<source missing, REPL/exec in use?>\u001b[0m\n",
      "\u001b[0m\u001b[0m\n",
      "  @jit\n",
      "/opt/conda/lib/python3.7/site-packages/numba/core/object_mode_passes.py:152: NumbaWarning: \u001b[1mFunction \"eval_gini\" was compiled in object mode without forceobj=True, but has lifted loops.\n",
      "\u001b[1m\n",
      "File \"../../tmp/ipykernel_20/773076713.py\", line 3:\u001b[0m\n",
      "\u001b[1m<source missing, REPL/exec in use?>\u001b[0m\n",
      "\u001b[0m\n",
      "  state.func_ir.loc))\n",
      "/opt/conda/lib/python3.7/site-packages/numba/core/object_mode_passes.py:162: NumbaDeprecationWarning: \u001b[1m\n",
      "Fall-back from the nopython compilation path to the object mode compilation path has been detected, this is deprecated behaviour.\n",
      "\n",
      "For more information visit https://numba.readthedocs.io/en/stable/reference/deprecation.html#deprecation-of-object-mode-fall-back-behaviour-when-using-jit\n",
      "\u001b[1m\n",
      "File \"../../tmp/ipykernel_20/773076713.py\", line 3:\u001b[0m\n",
      "\u001b[1m<source missing, REPL/exec in use?>\u001b[0m\n",
      "\u001b[0m\n",
      "  state.func_ir.loc))\n"
     ]
    },
    {
     "name": "stdout",
     "output_type": "stream",
     "text": [
      "starting from a oof lgb baseline 0.28812\n",
      "\n",
      "lgd=0.1 dnn=0.9 -> 0.26765\n",
      "lgd=0.2 dnn=0.8 -> 0.27266\n",
      "lgd=0.3 dnn=0.7 -> 0.27711\n",
      "lgd=0.4 dnn=0.6 -> 0.28092\n",
      "lgd=0.5 dnn=0.5 -> 0.28403\n",
      "lgd=0.6 dnn=0.4 -> 0.28638\n",
      "lgd=0.7 dnn=0.3 -> 0.28795\n",
      "lgd=0.8 dnn=0.2 -> 0.28875\n",
      "lgd=0.9 dnn=0.1 -> 0.28880\n",
      "\n",
      "Best alpha is 0.9\n"
     ]
    }
   ],
   "source": [
    "baseline = eval_gini(y_true=target.target, y_pred=lgb_oof_ranks)\n",
    "print(f\"starting from a oof lgb baseline {baseline:0.5f}\\n\")\n",
    "best_alpha = 1.0\n",
    "for alpha in [0.1, 0.2, 0.3, 0.4, 0.5, 0.6, 0.7, 0.8, 0.9]:\n",
    "    ensemble = alpha * lgb_oof_ranks + (1.0 - alpha) * dnn_oof_ranks\n",
    "    score = eval_gini(y_true=target.target, y_pred=ensemble)\n",
    "    print(f\"lgd={alpha:0.1f} dnn={(1.0 - alpha):0.1f} -> {score:0.5f}\")\n",
    "    \n",
    "    if score > baseline:\n",
    "        baseline = score\n",
    "        best_alpha = alpha\n",
    "        \n",
    "print(f\"\\nBest alpha is {best_alpha:0.1f}\")"
   ]
  },
  {
   "cell_type": "code",
   "execution_count": 5,
   "id": "7f60b762",
   "metadata": {
    "execution": {
     "iopub.execute_input": "2023-03-13T06:18:09.047815Z",
     "iopub.status.busy": "2023-03-13T06:18:09.045887Z",
     "iopub.status.idle": "2023-03-13T06:18:10.532893Z",
     "shell.execute_reply": "2023-03-13T06:18:10.531237Z"
    },
    "papermill": {
     "duration": 1.496901,
     "end_time": "2023-03-13T06:18:10.537138",
     "exception": false,
     "start_time": "2023-03-13T06:18:09.040237",
     "status": "completed"
    },
    "tags": []
   },
   "outputs": [],
   "source": [
    "lgb_submission = pd.read_csv(\"../input/safe-driver-prediction-files/lgb_submission.csv\")\n",
    "dnn_submission = pd.read_csv(\"../input/safe-driver-prediction-files/dnn_submission.csv\")\n",
    "submission = pd.read_csv(\n",
    "\"../input/porto-seguro-safe-driver-prediction/sample_submission.csv\")"
   ]
  },
  {
   "cell_type": "code",
   "execution_count": 6,
   "id": "d4d0cc96",
   "metadata": {
    "execution": {
     "iopub.execute_input": "2023-03-13T06:18:10.548002Z",
     "iopub.status.busy": "2023-03-13T06:18:10.547465Z",
     "iopub.status.idle": "2023-03-13T06:18:13.195769Z",
     "shell.execute_reply": "2023-03-13T06:18:13.193938Z"
    },
    "papermill": {
     "duration": 2.658273,
     "end_time": "2023-03-13T06:18:13.199953",
     "exception": false,
     "start_time": "2023-03-13T06:18:10.541680",
     "status": "completed"
    },
    "tags": []
   },
   "outputs": [],
   "source": [
    "lgb_ranks = (lgb_submission.target.rank() / len(lgb_submission))\n",
    "dnn_ranks = (dnn_submission.target.rank() / len(dnn_submission))\n",
    "submission.target = lgb_ranks * 0.5 + dnn_ranks * 0.5\n",
    "submission.to_csv(\"equal_blend_rank.csv\", index=False)"
   ]
  },
  {
   "cell_type": "code",
   "execution_count": 7,
   "id": "ceadc58e",
   "metadata": {
    "execution": {
     "iopub.execute_input": "2023-03-13T06:18:13.210736Z",
     "iopub.status.busy": "2023-03-13T06:18:13.209309Z",
     "iopub.status.idle": "2023-03-13T06:18:15.778264Z",
     "shell.execute_reply": "2023-03-13T06:18:15.776661Z"
    },
    "papermill": {
     "duration": 2.578091,
     "end_time": "2023-03-13T06:18:15.781890",
     "exception": false,
     "start_time": "2023-03-13T06:18:13.203799",
     "status": "completed"
    },
    "tags": []
   },
   "outputs": [],
   "source": [
    "lgb_ranks = (lgb_submission.target.rank() / len(lgb_submission))\n",
    "dnn_ranks = (dnn_submission.target.rank() / len(dnn_submission))\n",
    "submission.target = lgb_ranks * best_alpha +  dnn_ranks * (1.0 - best_alpha)\n",
    "submission.to_csv(\"blend_rank.csv\", index=False)"
   ]
  },
  {
   "cell_type": "code",
   "execution_count": null,
   "id": "f5693446",
   "metadata": {
    "papermill": {
     "duration": 0.003956,
     "end_time": "2023-03-13T06:18:15.790051",
     "exception": false,
     "start_time": "2023-03-13T06:18:15.786095",
     "status": "completed"
    },
    "tags": []
   },
   "outputs": [],
   "source": []
  }
 ],
 "metadata": {
  "kernelspec": {
   "display_name": "Python 3",
   "language": "python",
   "name": "python3"
  },
  "language_info": {
   "codemirror_mode": {
    "name": "ipython",
    "version": 3
   },
   "file_extension": ".py",
   "mimetype": "text/x-python",
   "name": "python",
   "nbconvert_exporter": "python",
   "pygments_lexer": "ipython3",
   "version": "3.7.12"
  },
  "papermill": {
   "default_parameters": {},
   "duration": 31.081667,
   "end_time": "2023-03-13T06:18:16.821387",
   "environment_variables": {},
   "exception": null,
   "input_path": "__notebook__.ipynb",
   "output_path": "__notebook__.ipynb",
   "parameters": {},
   "start_time": "2023-03-13T06:17:45.739720",
   "version": "2.4.0"
  }
 },
 "nbformat": 4,
 "nbformat_minor": 5
}
