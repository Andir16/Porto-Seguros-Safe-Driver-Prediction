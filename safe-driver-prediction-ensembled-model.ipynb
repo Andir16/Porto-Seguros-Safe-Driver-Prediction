{
 "cells": [
  {
   "cell_type": "markdown",
   "id": "dd375376",
   "metadata": {
    "papermill": {
     "duration": 0.005791,
     "end_time": "2023-03-13T06:43:41.093657",
     "exception": false,
     "start_time": "2023-03-13T06:43:41.087866",
     "status": "completed"
    },
    "tags": []
   },
   "source": [
    "# 1. Introduction\n",
    "\n",
    "<div style=\"color:white;display:fill;\n",
    "            background-color:#48AFFF;font-size:160%;\n",
    "            font-family:Arial\">\n",
    "    <p style=\"padding: 4px;color:white;\"><b>1.1 Context</b></p>\n",
    "</div>\n",
    "\n",
    "Ensembled Model from the two notebooks [Safe Driver Prediction - LightGBM Submission\n",
    "](https://www.kaggle.com/code/andir16/safe-driver-prediction-lightgbm-submission) and [Safe Driver Prediction - Denoising Autoencoder\n",
    "](https://www.kaggle.com/code/andir16/safe-driver-prediction-denoising-autoencoder) for the Porto Seguro's Safe Driver Prediction competition."
   ]
  },
  {
   "cell_type": "markdown",
   "id": "2514b8e4",
   "metadata": {
    "papermill": {
     "duration": 0.004011,
     "end_time": "2023-03-13T06:43:41.102318",
     "exception": false,
     "start_time": "2023-03-13T06:43:41.098307",
     "status": "completed"
    },
    "tags": []
   },
   "source": [
    "<div style=\"color:white;display:fill;\n",
    "            background-color:#48AFFF;font-size:160%;\n",
    "            font-family:Arial\">\n",
    "    <p style=\"padding: 4px;color:white;\"><b>1.2 Used code</b></p>\n",
    "</div>\n",
    "\n",
    "The code used is taken from [The Kaggle Workbook](https://www.amazon.com/Kaggle-Workbook-Self-learning-exercises-competitions/dp/1804611212) by [(Banachewicz & Massaron)](#3.-References)"
   ]
  },
  {
   "cell_type": "markdown",
   "id": "1e09662f",
   "metadata": {
    "papermill": {
     "duration": 0.004007,
     "end_time": "2023-03-13T06:43:41.110548",
     "exception": false,
     "start_time": "2023-03-13T06:43:41.106541",
     "status": "completed"
    },
    "tags": []
   },
   "source": [
    "<div style=\"color:white;display:fill;\n",
    "            background-color:#48AFFF;font-size:160%;\n",
    "            font-family:Arial\">\n",
    "    <p style=\"padding: 4px;color:white;\"><b>1.3 Libraries</b></p>\n",
    "</div>"
   ]
  },
  {
   "cell_type": "code",
   "execution_count": 1,
   "id": "6162df3c",
   "metadata": {
    "execution": {
     "iopub.execute_input": "2023-03-13T06:43:41.121511Z",
     "iopub.status.busy": "2023-03-13T06:43:41.120843Z",
     "iopub.status.idle": "2023-03-13T06:43:42.583621Z",
     "shell.execute_reply": "2023-03-13T06:43:42.582041Z"
    },
    "papermill": {
     "duration": 1.472519,
     "end_time": "2023-03-13T06:43:42.587241",
     "exception": false,
     "start_time": "2023-03-13T06:43:41.114722",
     "status": "completed"
    },
    "tags": []
   },
   "outputs": [],
   "source": [
    "import pandas as pd\n",
    "import numpy as np\n",
    "from numba import jit"
   ]
  },
  {
   "cell_type": "markdown",
   "id": "392e78f8",
   "metadata": {
    "papermill": {
     "duration": 0.004305,
     "end_time": "2023-03-13T06:43:42.596378",
     "exception": false,
     "start_time": "2023-03-13T06:43:42.592073",
     "status": "completed"
    },
    "tags": []
   },
   "source": [
    "# 2. Implementation\n",
    "\n",
    "<div style=\"color:white;display:fill;\n",
    "            background-color:#48AFFF;font-size:160%;\n",
    "            font-family:Arial\">\n",
    "    <p style=\"padding: 4px;color:white;\"><b>2.1 Evaluation Function</b></p>\n",
    "</div>"
   ]
  },
  {
   "cell_type": "code",
   "execution_count": 2,
   "id": "477ed75c",
   "metadata": {
    "execution": {
     "iopub.execute_input": "2023-03-13T06:43:42.607604Z",
     "iopub.status.busy": "2023-03-13T06:43:42.607135Z",
     "iopub.status.idle": "2023-03-13T06:43:42.890939Z",
     "shell.execute_reply": "2023-03-13T06:43:42.889709Z"
    },
    "papermill": {
     "duration": 0.293173,
     "end_time": "2023-03-13T06:43:42.894026",
     "exception": false,
     "start_time": "2023-03-13T06:43:42.600853",
     "status": "completed"
    },
    "tags": []
   },
   "outputs": [],
   "source": [
    "@jit\n",
    "def eval_gini(y_true, y_pred):\n",
    "    y_true = np.asarray(y_true)\n",
    "    y_true = y_true[np.argsort(y_pred)]\n",
    "    ntrue = 0\n",
    "    gini = 0\n",
    "    delta = 0\n",
    "    n = len(y_true)\n",
    "    for i in range(n-1, -1, -1):\n",
    "        y_i = y_true[i]\n",
    "        ntrue += y_i\n",
    "        gini += y_i * delta\n",
    "        delta += 1 - y_i\n",
    "    gini = 1 - 2 * gini / (ntrue * (n - ntrue))\n",
    "    return gini"
   ]
  },
  {
   "cell_type": "markdown",
   "id": "69fb7c6d",
   "metadata": {
    "papermill": {
     "duration": 0.00401,
     "end_time": "2023-03-13T06:43:42.902541",
     "exception": false,
     "start_time": "2023-03-13T06:43:42.898531",
     "status": "completed"
    },
    "tags": []
   },
   "source": [
    "<div style=\"color:white;display:fill;\n",
    "            background-color:#48AFFF;font-size:160%;\n",
    "            font-family:Arial\">\n",
    "    <p style=\"padding: 4px;color:white;\"><b>2.2 Loading the out-of-fold Predictions</b></p>\n",
    "</div>"
   ]
  },
  {
   "cell_type": "code",
   "execution_count": 3,
   "id": "2012e76d",
   "metadata": {
    "execution": {
     "iopub.execute_input": "2023-03-13T06:43:42.913094Z",
     "iopub.status.busy": "2023-03-13T06:43:42.912620Z",
     "iopub.status.idle": "2023-03-13T06:43:46.453823Z",
     "shell.execute_reply": "2023-03-13T06:43:46.452193Z"
    },
    "papermill": {
     "duration": 3.550672,
     "end_time": "2023-03-13T06:43:46.457417",
     "exception": false,
     "start_time": "2023-03-13T06:43:42.906745",
     "status": "completed"
    },
    "tags": []
   },
   "outputs": [],
   "source": [
    "lgb_oof = pd.read_csv(\"../input/safe-driver-prediction-files/lgb_oof.csv\")\n",
    "dnn_oof = pd.read_csv(\"../input/safe-driver-prediction-files/dnn_oof.csv\")\n",
    "target = pd.read_csv(\"../input/porto-seguro-safe-driver-prediction/train.csv\", usecols=['id','target'])"
   ]
  },
  {
   "cell_type": "markdown",
   "id": "42054ce3",
   "metadata": {
    "papermill": {
     "duration": 0.004808,
     "end_time": "2023-03-13T06:43:46.467277",
     "exception": false,
     "start_time": "2023-03-13T06:43:46.462469",
     "status": "completed"
    },
    "tags": []
   },
   "source": [
    "<div style=\"color:white;display:fill;\n",
    "            background-color:#48AFFF;font-size:160%;\n",
    "            font-family:Arial\">\n",
    "    <p style=\"padding: 4px;color:white;\"><b>2.3 Blending</b></p>\n",
    "</div>"
   ]
  },
  {
   "cell_type": "code",
   "execution_count": 4,
   "id": "700f33b6",
   "metadata": {
    "execution": {
     "iopub.execute_input": "2023-03-13T06:43:46.478789Z",
     "iopub.status.busy": "2023-03-13T06:43:46.478363Z",
     "iopub.status.idle": "2023-03-13T06:43:46.813876Z",
     "shell.execute_reply": "2023-03-13T06:43:46.812506Z"
    },
    "papermill": {
     "duration": 0.345238,
     "end_time": "2023-03-13T06:43:46.817223",
     "exception": false,
     "start_time": "2023-03-13T06:43:46.471985",
     "status": "completed"
    },
    "tags": []
   },
   "outputs": [],
   "source": [
    "lgb_oof_ranks = (lgb_oof.target.rank() / len(lgb_oof))\n",
    "dnn_oof_ranks = (dnn_oof.target.rank() / len(dnn_oof))"
   ]
  },
  {
   "cell_type": "code",
   "execution_count": 5,
   "id": "5a890273",
   "metadata": {
    "execution": {
     "iopub.execute_input": "2023-03-13T06:43:46.828622Z",
     "iopub.status.busy": "2023-03-13T06:43:46.828133Z",
     "iopub.status.idle": "2023-03-13T06:43:49.542359Z",
     "shell.execute_reply": "2023-03-13T06:43:49.541022Z"
    },
    "papermill": {
     "duration": 2.724093,
     "end_time": "2023-03-13T06:43:49.545792",
     "exception": false,
     "start_time": "2023-03-13T06:43:46.821699",
     "status": "completed"
    },
    "tags": []
   },
   "outputs": [
    {
     "name": "stderr",
     "output_type": "stream",
     "text": [
      "/tmp/ipykernel_19/4072306350.py:1: NumbaWarning: \u001b[1m\n",
      "Compilation is falling back to object mode WITH looplifting enabled because Function \"eval_gini\" failed type inference due to: \u001b[1m\u001b[1mnon-precise type pyobject\u001b[0m\n",
      "\u001b[0m\u001b[1mDuring: typing of argument at /tmp/ipykernel_19/4072306350.py (3)\u001b[0m\n",
      "\u001b[1m\n",
      "File \"../../tmp/ipykernel_19/4072306350.py\", line 3:\u001b[0m\n",
      "\u001b[1m<source missing, REPL/exec in use?>\u001b[0m\n",
      "\u001b[0m\n",
      "  @jit\n",
      "/tmp/ipykernel_19/4072306350.py:1: NumbaWarning: \u001b[1m\n",
      "Compilation is falling back to object mode WITHOUT looplifting enabled because Function \"eval_gini\" failed type inference due to: \u001b[1m\u001b[1mCannot determine Numba type of <class 'numba.core.dispatcher.LiftedLoop'>\u001b[0m\n",
      "\u001b[1m\n",
      "File \"../../tmp/ipykernel_19/4072306350.py\", line 9:\u001b[0m\n",
      "\u001b[1m<source missing, REPL/exec in use?>\u001b[0m\n",
      "\u001b[0m\u001b[0m\n",
      "  @jit\n",
      "/opt/conda/lib/python3.7/site-packages/numba/core/object_mode_passes.py:152: NumbaWarning: \u001b[1mFunction \"eval_gini\" was compiled in object mode without forceobj=True, but has lifted loops.\n",
      "\u001b[1m\n",
      "File \"../../tmp/ipykernel_19/4072306350.py\", line 3:\u001b[0m\n",
      "\u001b[1m<source missing, REPL/exec in use?>\u001b[0m\n",
      "\u001b[0m\n",
      "  state.func_ir.loc))\n",
      "/opt/conda/lib/python3.7/site-packages/numba/core/object_mode_passes.py:162: NumbaDeprecationWarning: \u001b[1m\n",
      "Fall-back from the nopython compilation path to the object mode compilation path has been detected, this is deprecated behaviour.\n",
      "\n",
      "For more information visit https://numba.readthedocs.io/en/stable/reference/deprecation.html#deprecation-of-object-mode-fall-back-behaviour-when-using-jit\n",
      "\u001b[1m\n",
      "File \"../../tmp/ipykernel_19/4072306350.py\", line 3:\u001b[0m\n",
      "\u001b[1m<source missing, REPL/exec in use?>\u001b[0m\n",
      "\u001b[0m\n",
      "  state.func_ir.loc))\n"
     ]
    },
    {
     "name": "stdout",
     "output_type": "stream",
     "text": [
      "starting from a oof lgb baseline 0.28812\n",
      "\n",
      "lgd=0.1 dnn=0.9 -> 0.26765\n",
      "lgd=0.2 dnn=0.8 -> 0.27266\n",
      "lgd=0.3 dnn=0.7 -> 0.27711\n",
      "lgd=0.4 dnn=0.6 -> 0.28092\n",
      "lgd=0.5 dnn=0.5 -> 0.28403\n",
      "lgd=0.6 dnn=0.4 -> 0.28638\n",
      "lgd=0.7 dnn=0.3 -> 0.28795\n",
      "lgd=0.8 dnn=0.2 -> 0.28875\n",
      "lgd=0.9 dnn=0.1 -> 0.28880\n",
      "\n",
      "Best alpha is 0.9\n"
     ]
    }
   ],
   "source": [
    "baseline = eval_gini(y_true=target.target, y_pred=lgb_oof_ranks)\n",
    "print(f\"starting from a oof lgb baseline {baseline:0.5f}\\n\")\n",
    "best_alpha = 1.0\n",
    "for alpha in [0.1, 0.2, 0.3, 0.4, 0.5, 0.6, 0.7, 0.8, 0.9]:\n",
    "    ensemble = alpha * lgb_oof_ranks + (1.0 - alpha) * dnn_oof_ranks\n",
    "    score = eval_gini(y_true=target.target, y_pred=ensemble)\n",
    "    print(f\"lgd={alpha:0.1f} dnn={(1.0 - alpha):0.1f} -> {score:0.5f}\")\n",
    "    \n",
    "    if score > baseline:\n",
    "        baseline = score\n",
    "        best_alpha = alpha\n",
    "        \n",
    "print(f\"\\nBest alpha is {best_alpha:0.1f}\")"
   ]
  },
  {
   "cell_type": "code",
   "execution_count": 6,
   "id": "0e5c6cd3",
   "metadata": {
    "execution": {
     "iopub.execute_input": "2023-03-13T06:43:49.559694Z",
     "iopub.status.busy": "2023-03-13T06:43:49.558033Z",
     "iopub.status.idle": "2023-03-13T06:43:50.918705Z",
     "shell.execute_reply": "2023-03-13T06:43:50.917059Z"
    },
    "papermill": {
     "duration": 1.370804,
     "end_time": "2023-03-13T06:43:50.921998",
     "exception": false,
     "start_time": "2023-03-13T06:43:49.551194",
     "status": "completed"
    },
    "tags": []
   },
   "outputs": [],
   "source": [
    "lgb_submission = pd.read_csv(\"../input/safe-driver-prediction-files/lgb_submission.csv\")\n",
    "dnn_submission = pd.read_csv(\"../input/safe-driver-prediction-files/dnn_submission.csv\")\n",
    "submission = pd.read_csv(\n",
    "\"../input/porto-seguro-safe-driver-prediction/sample_submission.csv\")"
   ]
  },
  {
   "cell_type": "markdown",
   "id": "2ed430f2",
   "metadata": {
    "papermill": {
     "duration": 0.004476,
     "end_time": "2023-03-13T06:43:50.931311",
     "exception": false,
     "start_time": "2023-03-13T06:43:50.926835",
     "status": "completed"
    },
    "tags": []
   },
   "source": [
    "<div style=\"color:white;display:fill;\n",
    "            background-color:#48AFFF;font-size:160%;\n",
    "            font-family:Arial\">\n",
    "    <p style=\"padding: 4px;color:white;\"><b>2.4 50/50 Weight Distribution</b></p>\n",
    "</div>"
   ]
  },
  {
   "cell_type": "code",
   "execution_count": 7,
   "id": "df0743b6",
   "metadata": {
    "execution": {
     "iopub.execute_input": "2023-03-13T06:43:50.943152Z",
     "iopub.status.busy": "2023-03-13T06:43:50.942646Z",
     "iopub.status.idle": "2023-03-13T06:43:53.511257Z",
     "shell.execute_reply": "2023-03-13T06:43:53.509927Z"
    },
    "papermill": {
     "duration": 2.578706,
     "end_time": "2023-03-13T06:43:53.514784",
     "exception": false,
     "start_time": "2023-03-13T06:43:50.936078",
     "status": "completed"
    },
    "tags": []
   },
   "outputs": [],
   "source": [
    "lgb_ranks = (lgb_submission.target.rank() / len(lgb_submission))\n",
    "dnn_ranks = (dnn_submission.target.rank() / len(dnn_submission))\n",
    "submission.target = lgb_ranks * 0.5 + dnn_ranks * 0.5\n",
    "submission.to_csv(\"equal_blend_rank.csv\", index=False)"
   ]
  },
  {
   "cell_type": "markdown",
   "id": "0dfe115f",
   "metadata": {
    "papermill": {
     "duration": 0.004714,
     "end_time": "2023-03-13T06:43:53.525375",
     "exception": false,
     "start_time": "2023-03-13T06:43:53.520661",
     "status": "completed"
    },
    "tags": []
   },
   "source": [
    "<div style=\"color:white;display:fill;\n",
    "            background-color:#48AFFF;font-size:160%;\n",
    "            font-family:Arial\">\n",
    "    <p style=\"padding: 4px;color:white;\"><b>2.5 Weight Distribution from out-of-fold Predictions</b></p>\n",
    "</div>"
   ]
  },
  {
   "cell_type": "code",
   "execution_count": 8,
   "id": "8ed984a1",
   "metadata": {
    "execution": {
     "iopub.execute_input": "2023-03-13T06:43:53.537090Z",
     "iopub.status.busy": "2023-03-13T06:43:53.536580Z",
     "iopub.status.idle": "2023-03-13T06:43:56.065291Z",
     "shell.execute_reply": "2023-03-13T06:43:56.064128Z"
    },
    "papermill": {
     "duration": 2.538248,
     "end_time": "2023-03-13T06:43:56.068383",
     "exception": false,
     "start_time": "2023-03-13T06:43:53.530135",
     "status": "completed"
    },
    "tags": []
   },
   "outputs": [],
   "source": [
    "lgb_ranks = (lgb_submission.target.rank() / len(lgb_submission))\n",
    "dnn_ranks = (dnn_submission.target.rank() / len(dnn_submission))\n",
    "submission.target = lgb_ranks * best_alpha +  dnn_ranks * (1.0 - best_alpha)\n",
    "submission.to_csv(\"blend_rank.csv\", index=False)"
   ]
  },
  {
   "cell_type": "markdown",
   "id": "7928169f",
   "metadata": {
    "papermill": {
     "duration": 0.004383,
     "end_time": "2023-03-13T06:43:56.077650",
     "exception": false,
     "start_time": "2023-03-13T06:43:56.073267",
     "status": "completed"
    },
    "tags": []
   },
   "source": [
    "# 3. References\n",
    "\n",
    "<div style=\"color:white;display:fill;\n",
    "            background-color:#48AFFF;font-size:160%;\n",
    "            font-family:Arial\">\n",
    "    <p style=\"padding: 4px;color:white;\"><b>3.1 References</b></p>\n",
    "</div>\n",
    "\n",
    "* Banachewicz, Konrad; Massaron, Luca. [The Kaggle Workbook](https://www.amazon.com/Kaggle-Workbook-Self-learning-exercises-competitions/dp/1804611212): Self-learning exercises and valuable insights for Kaggle data science competitions. Packt Publishing. \n",
    "* [Safe Driver Prediction - LightGBM Submission\n",
    "](https://www.kaggle.com/code/andir16/safe-driver-prediction-lightgbm-submission) by [Andreas Renz](https://www.kaggle.com/andir16)\n",
    "* [Safe Driver Prediction - Denoising Autoencoder\n",
    "](https://www.kaggle.com/code/andir16/safe-driver-prediction-denoising-autoencoder) by [Andreas Renz](https://www.kaggle.com/andir16)\n"
   ]
  }
 ],
 "metadata": {
  "kernelspec": {
   "display_name": "Python 3",
   "language": "python",
   "name": "python3"
  },
  "language_info": {
   "codemirror_mode": {
    "name": "ipython",
    "version": 3
   },
   "file_extension": ".py",
   "mimetype": "text/x-python",
   "name": "python",
   "nbconvert_exporter": "python",
   "pygments_lexer": "ipython3",
   "version": "3.7.12"
  },
  "papermill": {
   "default_parameters": {},
   "duration": 27.240835,
   "end_time": "2023-03-13T06:43:57.208828",
   "environment_variables": {},
   "exception": null,
   "input_path": "__notebook__.ipynb",
   "output_path": "__notebook__.ipynb",
   "parameters": {},
   "start_time": "2023-03-13T06:43:29.967993",
   "version": "2.4.0"
  }
 },
 "nbformat": 4,
 "nbformat_minor": 5
}
