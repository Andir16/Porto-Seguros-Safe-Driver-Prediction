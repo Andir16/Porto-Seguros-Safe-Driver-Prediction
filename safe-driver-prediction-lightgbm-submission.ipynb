{
 "cells": [
  {
   "cell_type": "markdown",
   "id": "80dba491",
   "metadata": {
    "papermill": {
     "duration": 0.008375,
     "end_time": "2023-03-05T11:15:44.006280",
     "exception": false,
     "start_time": "2023-03-05T11:15:43.997905",
     "status": "completed"
    },
    "tags": []
   },
   "source": [
    "# 1. Introduction\n",
    "\n",
    "<div style=\"color:white;display:fill;\n",
    "            background-color:#48AFFF;font-size:160%;\n",
    "            font-family:Arial\">\n",
    "    <p style=\"padding: 4px;color:white;\"><b>1.1 Context</b></p>\n",
    "</div>\n",
    "\n",
    "LightGBM implemenation for the Porto Seguro's Safe Driver Prediction competition."
   ]
  },
  {
   "cell_type": "markdown",
   "id": "3ba38a5c",
   "metadata": {
    "papermill": {
     "duration": 0.006909,
     "end_time": "2023-03-05T11:15:44.021025",
     "exception": false,
     "start_time": "2023-03-05T11:15:44.014116",
     "status": "completed"
    },
    "tags": []
   },
   "source": [
    "<div style=\"color:white;display:fill;\n",
    "            background-color:#48AFFF;font-size:160%;\n",
    "            font-family:Arial\">\n",
    "    <p style=\"padding: 4px;color:white;\"><b>1.2 Used code</b></p>\n",
    "</div>\n",
    "\n",
    "The code used is adapted from the chapter on adversarial validation in [The Kaggle Workbook](https://www.amazon.com/Kaggle-Workbook-Self-learning-exercises-competitions/dp/1804611212) by [(Banachewicz & Massaron)](#3.-References)."
   ]
  },
  {
   "cell_type": "markdown",
   "id": "e792ab91",
   "metadata": {
    "papermill": {
     "duration": 0.007608,
     "end_time": "2023-03-05T11:15:44.035889",
     "exception": false,
     "start_time": "2023-03-05T11:15:44.028281",
     "status": "completed"
    },
    "tags": []
   },
   "source": [
    "<div style=\"color:white;display:fill;\n",
    "            background-color:#48AFFF;font-size:160%;\n",
    "            font-family:Arial\">\n",
    "    <p style=\"padding: 4px;color:white;\"><b>1.3 Libraries</b></p>\n",
    "</div>\n"
   ]
  },
  {
   "cell_type": "code",
   "execution_count": 1,
   "id": "c95d06bd",
   "metadata": {
    "execution": {
     "iopub.execute_input": "2023-03-05T11:15:44.052180Z",
     "iopub.status.busy": "2023-03-05T11:15:44.051742Z",
     "iopub.status.idle": "2023-03-05T11:15:48.549582Z",
     "shell.execute_reply": "2023-03-05T11:15:48.548429Z"
    },
    "papermill": {
     "duration": 4.509648,
     "end_time": "2023-03-05T11:15:48.552727",
     "exception": false,
     "start_time": "2023-03-05T11:15:44.043079",
     "status": "completed"
    },
    "tags": []
   },
   "outputs": [
    {
     "data": {
      "text/html": [
       "<style type='text/css'>\n",
       ".datatable table.frame { margin-bottom: 0; }\n",
       ".datatable table.frame thead { border-bottom: none; }\n",
       ".datatable table.frame tr.coltypes td {  color: #FFFFFF;  line-height: 6px;  padding: 0 0.5em;}\n",
       ".datatable .bool    { background: #DDDD99; }\n",
       ".datatable .object  { background: #565656; }\n",
       ".datatable .int     { background: #5D9E5D; }\n",
       ".datatable .float   { background: #4040CC; }\n",
       ".datatable .str     { background: #CC4040; }\n",
       ".datatable .time    { background: #40CC40; }\n",
       ".datatable .row_index {  background: var(--jp-border-color3);  border-right: 1px solid var(--jp-border-color0);  color: var(--jp-ui-font-color3);  font-size: 9px;}\n",
       ".datatable .frame tbody td { text-align: left; }\n",
       ".datatable .frame tr.coltypes .row_index {  background: var(--jp-border-color0);}\n",
       ".datatable th:nth-child(2) { padding-left: 12px; }\n",
       ".datatable .hellipsis {  color: var(--jp-cell-editor-border-color);}\n",
       ".datatable .vellipsis {  background: var(--jp-layout-color0);  color: var(--jp-cell-editor-border-color);}\n",
       ".datatable .na {  color: var(--jp-cell-editor-border-color);  font-size: 80%;}\n",
       ".datatable .sp {  opacity: 0.25;}\n",
       ".datatable .footer { font-size: 9px; }\n",
       ".datatable .frame_dimensions {  background: var(--jp-border-color3);  border-top: 1px solid var(--jp-border-color0);  color: var(--jp-ui-font-color3);  display: inline-block;  opacity: 0.6;  padding: 1px 10px 1px 5px;}\n",
       "</style>\n"
      ],
      "text/plain": [
       "<IPython.core.display.HTML object>"
      ]
     },
     "metadata": {},
     "output_type": "display_data"
    }
   ],
   "source": [
    "import numpy as np\n",
    "import pandas as pd\n",
    "import optuna\n",
    "import lightgbm as lgb\n",
    "\n",
    "from numba import jit\n",
    "from path import Path\n",
    "from sklearn.model_selection import StratifiedKFold"
   ]
  },
  {
   "cell_type": "markdown",
   "id": "49ba7f8e",
   "metadata": {
    "papermill": {
     "duration": 0.007284,
     "end_time": "2023-03-05T11:15:48.567450",
     "exception": false,
     "start_time": "2023-03-05T11:15:48.560166",
     "status": "completed"
    },
    "tags": []
   },
   "source": [
    "# 2. Data Processing\n",
    "\n",
    "<div style=\"color:white;display:fill;\n",
    "            background-color:#48AFFF;font-size:160%;\n",
    "            font-family:Arial\">\n",
    "    <p style=\"padding: 4px;color:white;\"><b>2.1 Configuration Class</b></p>\n",
    "</div>"
   ]
  },
  {
   "cell_type": "code",
   "execution_count": 2,
   "id": "d61d825e",
   "metadata": {
    "execution": {
     "iopub.execute_input": "2023-03-05T11:15:48.584109Z",
     "iopub.status.busy": "2023-03-05T11:15:48.583601Z",
     "iopub.status.idle": "2023-03-05T11:15:48.590930Z",
     "shell.execute_reply": "2023-03-05T11:15:48.589761Z"
    },
    "papermill": {
     "duration": 0.018662,
     "end_time": "2023-03-05T11:15:48.593350",
     "exception": false,
     "start_time": "2023-03-05T11:15:48.574688",
     "status": "completed"
    },
    "tags": []
   },
   "outputs": [],
   "source": [
    "class Config:\n",
    "    input_path = Path('../input/porto-seguro-safe-driver-prediction')\n",
    "    optuna_lgb = False\n",
    "    n_estimators = 1500\n",
    "    early_stopping_round = 150\n",
    "    cv_folds = 5\n",
    "    random_state = 0\n",
    "    params = {'objective': 'binary',\n",
    "              'boosting_type': 'gbdt',\n",
    "              'learning_rate': 0.01,\n",
    "              'max_bin': 25,\n",
    "              'num_leaves': 31,\n",
    "              'min_child_samples': 1500,\n",
    "              'colsample_bytree': 0.7,\n",
    "              'subsample_freq': 1,\n",
    "              'subsample': 0.7,\n",
    "              'reg_alpha': 1.0,\n",
    "              'reg_lambda': 1.0,\n",
    "              'verbosity': 0,\n",
    "              'random_state': 0}\n",
    "    \n",
    "config = Config()\n"
   ]
  },
  {
   "cell_type": "markdown",
   "id": "bef935cb",
   "metadata": {
    "papermill": {
     "duration": 0.007064,
     "end_time": "2023-03-05T11:15:48.607745",
     "exception": false,
     "start_time": "2023-03-05T11:15:48.600681",
     "status": "completed"
    },
    "tags": []
   },
   "source": [
    "<div style=\"color:white;display:fill;\n",
    "            background-color:#48AFFF;font-size:160%;\n",
    "            font-family:Arial\">\n",
    "    <p style=\"padding: 4px;color:white;\"><b>2.2 Loading the data</b></p>\n",
    "</div>\n"
   ]
  },
  {
   "cell_type": "code",
   "execution_count": 3,
   "id": "d48b0139",
   "metadata": {
    "execution": {
     "iopub.execute_input": "2023-03-05T11:15:48.626169Z",
     "iopub.status.busy": "2023-03-05T11:15:48.625721Z",
     "iopub.status.idle": "2023-03-05T11:16:00.641675Z",
     "shell.execute_reply": "2023-03-05T11:16:00.640440Z"
    },
    "papermill": {
     "duration": 12.029219,
     "end_time": "2023-03-05T11:16:00.644692",
     "exception": false,
     "start_time": "2023-03-05T11:15:48.615473",
     "status": "completed"
    },
    "tags": []
   },
   "outputs": [],
   "source": [
    "train = pd.read_csv(config.input_path / 'train.csv', index_col='id')\n",
    "test = pd.read_csv(config.input_path / 'test.csv', index_col='id')\n",
    "submission = pd.read_csv(config.input_path / 'sample_submission.csv', index_col='id')"
   ]
  },
  {
   "cell_type": "code",
   "execution_count": 4,
   "id": "0e181ef7",
   "metadata": {
    "execution": {
     "iopub.execute_input": "2023-03-05T11:16:00.661529Z",
     "iopub.status.busy": "2023-03-05T11:16:00.661124Z",
     "iopub.status.idle": "2023-03-05T11:16:00.667236Z",
     "shell.execute_reply": "2023-03-05T11:16:00.665861Z"
    },
    "papermill": {
     "duration": 0.017442,
     "end_time": "2023-03-05T11:16:00.669683",
     "exception": false,
     "start_time": "2023-03-05T11:16:00.652241",
     "status": "completed"
    },
    "tags": []
   },
   "outputs": [],
   "source": [
    "calc_features = [feat for feat in train.columns if \"_calc\" in feat]\n",
    "cat_features = [feat for feat in train.columns if \"_cat\" in feat]"
   ]
  },
  {
   "cell_type": "code",
   "execution_count": 5,
   "id": "25ac6328",
   "metadata": {
    "execution": {
     "iopub.execute_input": "2023-03-05T11:16:00.687063Z",
     "iopub.status.busy": "2023-03-05T11:16:00.685803Z",
     "iopub.status.idle": "2023-03-05T11:16:00.718600Z",
     "shell.execute_reply": "2023-03-05T11:16:00.716905Z"
    },
    "papermill": {
     "duration": 0.044296,
     "end_time": "2023-03-05T11:16:00.721412",
     "exception": false,
     "start_time": "2023-03-05T11:16:00.677116",
     "status": "completed"
    },
    "tags": []
   },
   "outputs": [
    {
     "data": {
      "text/html": [
       "<div>\n",
       "<style scoped>\n",
       "    .dataframe tbody tr th:only-of-type {\n",
       "        vertical-align: middle;\n",
       "    }\n",
       "\n",
       "    .dataframe tbody tr th {\n",
       "        vertical-align: top;\n",
       "    }\n",
       "\n",
       "    .dataframe thead th {\n",
       "        text-align: right;\n",
       "    }\n",
       "</style>\n",
       "<table border=\"1\" class=\"dataframe\">\n",
       "  <thead>\n",
       "    <tr style=\"text-align: right;\">\n",
       "      <th></th>\n",
       "      <th>target</th>\n",
       "      <th>ps_ind_01</th>\n",
       "      <th>ps_ind_02_cat</th>\n",
       "      <th>ps_ind_03</th>\n",
       "      <th>ps_ind_04_cat</th>\n",
       "      <th>ps_ind_05_cat</th>\n",
       "      <th>ps_ind_06_bin</th>\n",
       "      <th>ps_ind_07_bin</th>\n",
       "      <th>ps_ind_08_bin</th>\n",
       "      <th>ps_ind_09_bin</th>\n",
       "      <th>...</th>\n",
       "      <th>ps_calc_11</th>\n",
       "      <th>ps_calc_12</th>\n",
       "      <th>ps_calc_13</th>\n",
       "      <th>ps_calc_14</th>\n",
       "      <th>ps_calc_15_bin</th>\n",
       "      <th>ps_calc_16_bin</th>\n",
       "      <th>ps_calc_17_bin</th>\n",
       "      <th>ps_calc_18_bin</th>\n",
       "      <th>ps_calc_19_bin</th>\n",
       "      <th>ps_calc_20_bin</th>\n",
       "    </tr>\n",
       "    <tr>\n",
       "      <th>id</th>\n",
       "      <th></th>\n",
       "      <th></th>\n",
       "      <th></th>\n",
       "      <th></th>\n",
       "      <th></th>\n",
       "      <th></th>\n",
       "      <th></th>\n",
       "      <th></th>\n",
       "      <th></th>\n",
       "      <th></th>\n",
       "      <th></th>\n",
       "      <th></th>\n",
       "      <th></th>\n",
       "      <th></th>\n",
       "      <th></th>\n",
       "      <th></th>\n",
       "      <th></th>\n",
       "      <th></th>\n",
       "      <th></th>\n",
       "      <th></th>\n",
       "      <th></th>\n",
       "    </tr>\n",
       "  </thead>\n",
       "  <tbody>\n",
       "    <tr>\n",
       "      <th>7</th>\n",
       "      <td>0</td>\n",
       "      <td>2</td>\n",
       "      <td>2</td>\n",
       "      <td>5</td>\n",
       "      <td>1</td>\n",
       "      <td>0</td>\n",
       "      <td>0</td>\n",
       "      <td>1</td>\n",
       "      <td>0</td>\n",
       "      <td>0</td>\n",
       "      <td>...</td>\n",
       "      <td>9</td>\n",
       "      <td>1</td>\n",
       "      <td>5</td>\n",
       "      <td>8</td>\n",
       "      <td>0</td>\n",
       "      <td>1</td>\n",
       "      <td>1</td>\n",
       "      <td>0</td>\n",
       "      <td>0</td>\n",
       "      <td>1</td>\n",
       "    </tr>\n",
       "    <tr>\n",
       "      <th>9</th>\n",
       "      <td>0</td>\n",
       "      <td>1</td>\n",
       "      <td>1</td>\n",
       "      <td>7</td>\n",
       "      <td>0</td>\n",
       "      <td>0</td>\n",
       "      <td>0</td>\n",
       "      <td>0</td>\n",
       "      <td>1</td>\n",
       "      <td>0</td>\n",
       "      <td>...</td>\n",
       "      <td>3</td>\n",
       "      <td>1</td>\n",
       "      <td>1</td>\n",
       "      <td>9</td>\n",
       "      <td>0</td>\n",
       "      <td>1</td>\n",
       "      <td>1</td>\n",
       "      <td>0</td>\n",
       "      <td>1</td>\n",
       "      <td>0</td>\n",
       "    </tr>\n",
       "    <tr>\n",
       "      <th>13</th>\n",
       "      <td>0</td>\n",
       "      <td>5</td>\n",
       "      <td>4</td>\n",
       "      <td>9</td>\n",
       "      <td>1</td>\n",
       "      <td>0</td>\n",
       "      <td>0</td>\n",
       "      <td>0</td>\n",
       "      <td>1</td>\n",
       "      <td>0</td>\n",
       "      <td>...</td>\n",
       "      <td>4</td>\n",
       "      <td>2</td>\n",
       "      <td>7</td>\n",
       "      <td>7</td>\n",
       "      <td>0</td>\n",
       "      <td>1</td>\n",
       "      <td>1</td>\n",
       "      <td>0</td>\n",
       "      <td>1</td>\n",
       "      <td>0</td>\n",
       "    </tr>\n",
       "    <tr>\n",
       "      <th>16</th>\n",
       "      <td>0</td>\n",
       "      <td>0</td>\n",
       "      <td>1</td>\n",
       "      <td>2</td>\n",
       "      <td>0</td>\n",
       "      <td>0</td>\n",
       "      <td>1</td>\n",
       "      <td>0</td>\n",
       "      <td>0</td>\n",
       "      <td>0</td>\n",
       "      <td>...</td>\n",
       "      <td>2</td>\n",
       "      <td>2</td>\n",
       "      <td>4</td>\n",
       "      <td>9</td>\n",
       "      <td>0</td>\n",
       "      <td>0</td>\n",
       "      <td>0</td>\n",
       "      <td>0</td>\n",
       "      <td>0</td>\n",
       "      <td>0</td>\n",
       "    </tr>\n",
       "    <tr>\n",
       "      <th>17</th>\n",
       "      <td>0</td>\n",
       "      <td>0</td>\n",
       "      <td>2</td>\n",
       "      <td>0</td>\n",
       "      <td>1</td>\n",
       "      <td>0</td>\n",
       "      <td>1</td>\n",
       "      <td>0</td>\n",
       "      <td>0</td>\n",
       "      <td>0</td>\n",
       "      <td>...</td>\n",
       "      <td>3</td>\n",
       "      <td>1</td>\n",
       "      <td>1</td>\n",
       "      <td>3</td>\n",
       "      <td>0</td>\n",
       "      <td>0</td>\n",
       "      <td>0</td>\n",
       "      <td>1</td>\n",
       "      <td>1</td>\n",
       "      <td>0</td>\n",
       "    </tr>\n",
       "  </tbody>\n",
       "</table>\n",
       "<p>5 rows × 58 columns</p>\n",
       "</div>"
      ],
      "text/plain": [
       "    target  ps_ind_01  ps_ind_02_cat  ps_ind_03  ps_ind_04_cat  ps_ind_05_cat  \\\n",
       "id                                                                              \n",
       "7        0          2              2          5              1              0   \n",
       "9        0          1              1          7              0              0   \n",
       "13       0          5              4          9              1              0   \n",
       "16       0          0              1          2              0              0   \n",
       "17       0          0              2          0              1              0   \n",
       "\n",
       "    ps_ind_06_bin  ps_ind_07_bin  ps_ind_08_bin  ps_ind_09_bin  ...  \\\n",
       "id                                                              ...   \n",
       "7               0              1              0              0  ...   \n",
       "9               0              0              1              0  ...   \n",
       "13              0              0              1              0  ...   \n",
       "16              1              0              0              0  ...   \n",
       "17              1              0              0              0  ...   \n",
       "\n",
       "    ps_calc_11  ps_calc_12  ps_calc_13  ps_calc_14  ps_calc_15_bin  \\\n",
       "id                                                                   \n",
       "7            9           1           5           8               0   \n",
       "9            3           1           1           9               0   \n",
       "13           4           2           7           7               0   \n",
       "16           2           2           4           9               0   \n",
       "17           3           1           1           3               0   \n",
       "\n",
       "    ps_calc_16_bin  ps_calc_17_bin  ps_calc_18_bin  ps_calc_19_bin  \\\n",
       "id                                                                   \n",
       "7                1               1               0               0   \n",
       "9                1               1               0               1   \n",
       "13               1               1               0               1   \n",
       "16               0               0               0               0   \n",
       "17               0               0               1               1   \n",
       "\n",
       "    ps_calc_20_bin  \n",
       "id                  \n",
       "7                1  \n",
       "9                0  \n",
       "13               0  \n",
       "16               0  \n",
       "17               0  \n",
       "\n",
       "[5 rows x 58 columns]"
      ]
     },
     "execution_count": 5,
     "metadata": {},
     "output_type": "execute_result"
    }
   ],
   "source": [
    "train.head()"
   ]
  },
  {
   "cell_type": "code",
   "execution_count": 6,
   "id": "c5a8cf11",
   "metadata": {
    "execution": {
     "iopub.execute_input": "2023-03-05T11:16:00.740085Z",
     "iopub.status.busy": "2023-03-05T11:16:00.738825Z",
     "iopub.status.idle": "2023-03-05T11:16:00.758266Z",
     "shell.execute_reply": "2023-03-05T11:16:00.757033Z"
    },
    "papermill": {
     "duration": 0.032196,
     "end_time": "2023-03-05T11:16:00.761557",
     "exception": false,
     "start_time": "2023-03-05T11:16:00.729361",
     "status": "completed"
    },
    "tags": []
   },
   "outputs": [
    {
     "data": {
      "text/html": [
       "<div>\n",
       "<style scoped>\n",
       "    .dataframe tbody tr th:only-of-type {\n",
       "        vertical-align: middle;\n",
       "    }\n",
       "\n",
       "    .dataframe tbody tr th {\n",
       "        vertical-align: top;\n",
       "    }\n",
       "\n",
       "    .dataframe thead th {\n",
       "        text-align: right;\n",
       "    }\n",
       "</style>\n",
       "<table border=\"1\" class=\"dataframe\">\n",
       "  <thead>\n",
       "    <tr style=\"text-align: right;\">\n",
       "      <th></th>\n",
       "      <th>ps_ind_01</th>\n",
       "      <th>ps_ind_02_cat</th>\n",
       "      <th>ps_ind_03</th>\n",
       "      <th>ps_ind_04_cat</th>\n",
       "      <th>ps_ind_05_cat</th>\n",
       "      <th>ps_ind_06_bin</th>\n",
       "      <th>ps_ind_07_bin</th>\n",
       "      <th>ps_ind_08_bin</th>\n",
       "      <th>ps_ind_09_bin</th>\n",
       "      <th>ps_ind_10_bin</th>\n",
       "      <th>...</th>\n",
       "      <th>ps_calc_11</th>\n",
       "      <th>ps_calc_12</th>\n",
       "      <th>ps_calc_13</th>\n",
       "      <th>ps_calc_14</th>\n",
       "      <th>ps_calc_15_bin</th>\n",
       "      <th>ps_calc_16_bin</th>\n",
       "      <th>ps_calc_17_bin</th>\n",
       "      <th>ps_calc_18_bin</th>\n",
       "      <th>ps_calc_19_bin</th>\n",
       "      <th>ps_calc_20_bin</th>\n",
       "    </tr>\n",
       "    <tr>\n",
       "      <th>id</th>\n",
       "      <th></th>\n",
       "      <th></th>\n",
       "      <th></th>\n",
       "      <th></th>\n",
       "      <th></th>\n",
       "      <th></th>\n",
       "      <th></th>\n",
       "      <th></th>\n",
       "      <th></th>\n",
       "      <th></th>\n",
       "      <th></th>\n",
       "      <th></th>\n",
       "      <th></th>\n",
       "      <th></th>\n",
       "      <th></th>\n",
       "      <th></th>\n",
       "      <th></th>\n",
       "      <th></th>\n",
       "      <th></th>\n",
       "      <th></th>\n",
       "      <th></th>\n",
       "    </tr>\n",
       "  </thead>\n",
       "  <tbody>\n",
       "    <tr>\n",
       "      <th>0</th>\n",
       "      <td>0</td>\n",
       "      <td>1</td>\n",
       "      <td>8</td>\n",
       "      <td>1</td>\n",
       "      <td>0</td>\n",
       "      <td>0</td>\n",
       "      <td>1</td>\n",
       "      <td>0</td>\n",
       "      <td>0</td>\n",
       "      <td>0</td>\n",
       "      <td>...</td>\n",
       "      <td>1</td>\n",
       "      <td>1</td>\n",
       "      <td>1</td>\n",
       "      <td>12</td>\n",
       "      <td>0</td>\n",
       "      <td>1</td>\n",
       "      <td>1</td>\n",
       "      <td>0</td>\n",
       "      <td>0</td>\n",
       "      <td>1</td>\n",
       "    </tr>\n",
       "    <tr>\n",
       "      <th>1</th>\n",
       "      <td>4</td>\n",
       "      <td>2</td>\n",
       "      <td>5</td>\n",
       "      <td>1</td>\n",
       "      <td>0</td>\n",
       "      <td>0</td>\n",
       "      <td>0</td>\n",
       "      <td>0</td>\n",
       "      <td>1</td>\n",
       "      <td>0</td>\n",
       "      <td>...</td>\n",
       "      <td>2</td>\n",
       "      <td>0</td>\n",
       "      <td>3</td>\n",
       "      <td>10</td>\n",
       "      <td>0</td>\n",
       "      <td>0</td>\n",
       "      <td>1</td>\n",
       "      <td>1</td>\n",
       "      <td>0</td>\n",
       "      <td>1</td>\n",
       "    </tr>\n",
       "    <tr>\n",
       "      <th>2</th>\n",
       "      <td>5</td>\n",
       "      <td>1</td>\n",
       "      <td>3</td>\n",
       "      <td>0</td>\n",
       "      <td>0</td>\n",
       "      <td>0</td>\n",
       "      <td>0</td>\n",
       "      <td>0</td>\n",
       "      <td>1</td>\n",
       "      <td>0</td>\n",
       "      <td>...</td>\n",
       "      <td>4</td>\n",
       "      <td>0</td>\n",
       "      <td>2</td>\n",
       "      <td>4</td>\n",
       "      <td>0</td>\n",
       "      <td>0</td>\n",
       "      <td>0</td>\n",
       "      <td>0</td>\n",
       "      <td>0</td>\n",
       "      <td>0</td>\n",
       "    </tr>\n",
       "    <tr>\n",
       "      <th>3</th>\n",
       "      <td>0</td>\n",
       "      <td>1</td>\n",
       "      <td>6</td>\n",
       "      <td>0</td>\n",
       "      <td>0</td>\n",
       "      <td>1</td>\n",
       "      <td>0</td>\n",
       "      <td>0</td>\n",
       "      <td>0</td>\n",
       "      <td>0</td>\n",
       "      <td>...</td>\n",
       "      <td>5</td>\n",
       "      <td>1</td>\n",
       "      <td>0</td>\n",
       "      <td>5</td>\n",
       "      <td>1</td>\n",
       "      <td>0</td>\n",
       "      <td>1</td>\n",
       "      <td>0</td>\n",
       "      <td>0</td>\n",
       "      <td>0</td>\n",
       "    </tr>\n",
       "    <tr>\n",
       "      <th>4</th>\n",
       "      <td>5</td>\n",
       "      <td>1</td>\n",
       "      <td>7</td>\n",
       "      <td>0</td>\n",
       "      <td>0</td>\n",
       "      <td>0</td>\n",
       "      <td>0</td>\n",
       "      <td>0</td>\n",
       "      <td>1</td>\n",
       "      <td>0</td>\n",
       "      <td>...</td>\n",
       "      <td>4</td>\n",
       "      <td>0</td>\n",
       "      <td>0</td>\n",
       "      <td>4</td>\n",
       "      <td>0</td>\n",
       "      <td>1</td>\n",
       "      <td>1</td>\n",
       "      <td>0</td>\n",
       "      <td>0</td>\n",
       "      <td>1</td>\n",
       "    </tr>\n",
       "  </tbody>\n",
       "</table>\n",
       "<p>5 rows × 57 columns</p>\n",
       "</div>"
      ],
      "text/plain": [
       "    ps_ind_01  ps_ind_02_cat  ps_ind_03  ps_ind_04_cat  ps_ind_05_cat  \\\n",
       "id                                                                      \n",
       "0           0              1          8              1              0   \n",
       "1           4              2          5              1              0   \n",
       "2           5              1          3              0              0   \n",
       "3           0              1          6              0              0   \n",
       "4           5              1          7              0              0   \n",
       "\n",
       "    ps_ind_06_bin  ps_ind_07_bin  ps_ind_08_bin  ps_ind_09_bin  ps_ind_10_bin  \\\n",
       "id                                                                              \n",
       "0               0              1              0              0              0   \n",
       "1               0              0              0              1              0   \n",
       "2               0              0              0              1              0   \n",
       "3               1              0              0              0              0   \n",
       "4               0              0              0              1              0   \n",
       "\n",
       "    ...  ps_calc_11  ps_calc_12  ps_calc_13  ps_calc_14  ps_calc_15_bin  \\\n",
       "id  ...                                                                   \n",
       "0   ...           1           1           1          12               0   \n",
       "1   ...           2           0           3          10               0   \n",
       "2   ...           4           0           2           4               0   \n",
       "3   ...           5           1           0           5               1   \n",
       "4   ...           4           0           0           4               0   \n",
       "\n",
       "    ps_calc_16_bin  ps_calc_17_bin  ps_calc_18_bin  ps_calc_19_bin  \\\n",
       "id                                                                   \n",
       "0                1               1               0               0   \n",
       "1                0               1               1               0   \n",
       "2                0               0               0               0   \n",
       "3                0               1               0               0   \n",
       "4                1               1               0               0   \n",
       "\n",
       "    ps_calc_20_bin  \n",
       "id                  \n",
       "0                1  \n",
       "1                1  \n",
       "2                0  \n",
       "3                0  \n",
       "4                1  \n",
       "\n",
       "[5 rows x 57 columns]"
      ]
     },
     "execution_count": 6,
     "metadata": {},
     "output_type": "execute_result"
    }
   ],
   "source": [
    "test.head()"
   ]
  },
  {
   "cell_type": "code",
   "execution_count": 7,
   "id": "6adf2ed3",
   "metadata": {
    "execution": {
     "iopub.execute_input": "2023-03-05T11:16:00.780576Z",
     "iopub.status.busy": "2023-03-05T11:16:00.780099Z",
     "iopub.status.idle": "2023-03-05T11:16:00.793493Z",
     "shell.execute_reply": "2023-03-05T11:16:00.791747Z"
    },
    "papermill": {
     "duration": 0.026512,
     "end_time": "2023-03-05T11:16:00.796509",
     "exception": false,
     "start_time": "2023-03-05T11:16:00.769997",
     "status": "completed"
    },
    "tags": []
   },
   "outputs": [
    {
     "data": {
      "text/html": [
       "<div>\n",
       "<style scoped>\n",
       "    .dataframe tbody tr th:only-of-type {\n",
       "        vertical-align: middle;\n",
       "    }\n",
       "\n",
       "    .dataframe tbody tr th {\n",
       "        vertical-align: top;\n",
       "    }\n",
       "\n",
       "    .dataframe thead th {\n",
       "        text-align: right;\n",
       "    }\n",
       "</style>\n",
       "<table border=\"1\" class=\"dataframe\">\n",
       "  <thead>\n",
       "    <tr style=\"text-align: right;\">\n",
       "      <th></th>\n",
       "      <th>target</th>\n",
       "    </tr>\n",
       "    <tr>\n",
       "      <th>id</th>\n",
       "      <th></th>\n",
       "    </tr>\n",
       "  </thead>\n",
       "  <tbody>\n",
       "    <tr>\n",
       "      <th>0</th>\n",
       "      <td>0.0364</td>\n",
       "    </tr>\n",
       "    <tr>\n",
       "      <th>1</th>\n",
       "      <td>0.0364</td>\n",
       "    </tr>\n",
       "    <tr>\n",
       "      <th>2</th>\n",
       "      <td>0.0364</td>\n",
       "    </tr>\n",
       "    <tr>\n",
       "      <th>3</th>\n",
       "      <td>0.0364</td>\n",
       "    </tr>\n",
       "    <tr>\n",
       "      <th>4</th>\n",
       "      <td>0.0364</td>\n",
       "    </tr>\n",
       "  </tbody>\n",
       "</table>\n",
       "</div>"
      ],
      "text/plain": [
       "    target\n",
       "id        \n",
       "0   0.0364\n",
       "1   0.0364\n",
       "2   0.0364\n",
       "3   0.0364\n",
       "4   0.0364"
      ]
     },
     "execution_count": 7,
     "metadata": {},
     "output_type": "execute_result"
    }
   ],
   "source": [
    "submission.head()"
   ]
  },
  {
   "cell_type": "code",
   "execution_count": 8,
   "id": "10118ed4",
   "metadata": {
    "execution": {
     "iopub.execute_input": "2023-03-05T11:16:00.815814Z",
     "iopub.status.busy": "2023-03-05T11:16:00.815067Z",
     "iopub.status.idle": "2023-03-05T11:16:00.912532Z",
     "shell.execute_reply": "2023-03-05T11:16:00.911227Z"
    },
    "papermill": {
     "duration": 0.110682,
     "end_time": "2023-03-05T11:16:00.915482",
     "exception": false,
     "start_time": "2023-03-05T11:16:00.804800",
     "status": "completed"
    },
    "tags": []
   },
   "outputs": [],
   "source": [
    "target = train[\"target\"]\n",
    "train = train.drop(\"target\", axis=\"columns\")"
   ]
  },
  {
   "cell_type": "markdown",
   "id": "b5c80d98",
   "metadata": {
    "papermill": {
     "duration": 0.007856,
     "end_time": "2023-03-05T11:16:00.931657",
     "exception": false,
     "start_time": "2023-03-05T11:16:00.923801",
     "status": "completed"
    },
    "tags": []
   },
   "source": [
    "<div style=\"color:white;display:fill;\n",
    "            background-color:#48AFFF;font-size:160%;\n",
    "            font-family:Arial\">\n",
    "    <p style=\"padding: 4px;color:white;\"><b>2.3 Dropping the calc features</b></p>\n",
    "</div>\n",
    "We are dropping the calc features as discussed here: [Why removing ps_calc features improve the results?](https://www.kaggle.com/competitions/porto-seguro-safe-driver-prediction/discussion/41970)"
   ]
  },
  {
   "cell_type": "code",
   "execution_count": 9,
   "id": "f4087af0",
   "metadata": {
    "execution": {
     "iopub.execute_input": "2023-03-05T11:16:00.950061Z",
     "iopub.status.busy": "2023-03-05T11:16:00.949577Z",
     "iopub.status.idle": "2023-03-05T11:16:01.113339Z",
     "shell.execute_reply": "2023-03-05T11:16:01.111847Z"
    },
    "papermill": {
     "duration": 0.176536,
     "end_time": "2023-03-05T11:16:01.116396",
     "exception": false,
     "start_time": "2023-03-05T11:16:00.939860",
     "status": "completed"
    },
    "tags": []
   },
   "outputs": [],
   "source": [
    "train = train.drop(calc_features, axis=\"columns\")\n",
    "test = test.drop(calc_features, axis=\"columns\")"
   ]
  },
  {
   "cell_type": "markdown",
   "id": "89b2df3a",
   "metadata": {
    "papermill": {
     "duration": 0.007816,
     "end_time": "2023-03-05T11:16:01.132378",
     "exception": false,
     "start_time": "2023-03-05T11:16:01.124562",
     "status": "completed"
    },
    "tags": []
   },
   "source": [
    "<div style=\"color:white;display:fill;\n",
    "            background-color:#48AFFF;font-size:160%;\n",
    "            font-family:Arial\">\n",
    "    <p style=\"padding: 4px;color:white;\"><b>2.4 One-hot Encoding</b></p>\n",
    "</div>"
   ]
  },
  {
   "cell_type": "code",
   "execution_count": 10,
   "id": "1dedf299",
   "metadata": {
    "execution": {
     "iopub.execute_input": "2023-03-05T11:16:01.150783Z",
     "iopub.status.busy": "2023-03-05T11:16:01.150252Z",
     "iopub.status.idle": "2023-03-05T11:16:02.247081Z",
     "shell.execute_reply": "2023-03-05T11:16:02.245412Z"
    },
    "papermill": {
     "duration": 1.10931,
     "end_time": "2023-03-05T11:16:02.249953",
     "exception": false,
     "start_time": "2023-03-05T11:16:01.140643",
     "status": "completed"
    },
    "tags": []
   },
   "outputs": [],
   "source": [
    "train = pd.get_dummies(train, columns=cat_features)\n",
    "test = pd.get_dummies(test, columns=cat_features)"
   ]
  },
  {
   "cell_type": "code",
   "execution_count": 11,
   "id": "46d7c296",
   "metadata": {
    "execution": {
     "iopub.execute_input": "2023-03-05T11:16:02.269118Z",
     "iopub.status.busy": "2023-03-05T11:16:02.267825Z",
     "iopub.status.idle": "2023-03-05T11:16:02.274580Z",
     "shell.execute_reply": "2023-03-05T11:16:02.273272Z"
    },
    "papermill": {
     "duration": 0.019114,
     "end_time": "2023-03-05T11:16:02.277323",
     "exception": false,
     "start_time": "2023-03-05T11:16:02.258209",
     "status": "completed"
    },
    "tags": []
   },
   "outputs": [],
   "source": [
    "assert((train.columns==test.columns).all())"
   ]
  },
  {
   "cell_type": "markdown",
   "id": "3d22487b",
   "metadata": {
    "papermill": {
     "duration": 0.007798,
     "end_time": "2023-03-05T11:16:02.293333",
     "exception": false,
     "start_time": "2023-03-05T11:16:02.285535",
     "status": "completed"
    },
    "tags": []
   },
   "source": [
    "# 3. Evaluation Metric\n",
    "\n",
    "<div style=\"color:white;display:fill;\n",
    "            background-color:#48AFFF;font-size:160%;\n",
    "            font-family:Arial\">\n",
    "    <p style=\"padding: 4px;color:white;\"><b>3.1 Normalized Gini Coefficient</b></p>\n",
    "</div>"
   ]
  },
  {
   "cell_type": "code",
   "execution_count": 12,
   "id": "122ec10a",
   "metadata": {
    "execution": {
     "iopub.execute_input": "2023-03-05T11:16:02.312180Z",
     "iopub.status.busy": "2023-03-05T11:16:02.311723Z",
     "iopub.status.idle": "2023-03-05T11:16:02.595251Z",
     "shell.execute_reply": "2023-03-05T11:16:02.593441Z"
    },
    "papermill": {
     "duration": 0.296632,
     "end_time": "2023-03-05T11:16:02.598158",
     "exception": false,
     "start_time": "2023-03-05T11:16:02.301526",
     "status": "completed"
    },
    "tags": []
   },
   "outputs": [],
   "source": [
    "@jit\n",
    "def eval_gini(y_true, y_pred):\n",
    "    y_true = np.asarray(y_true)\n",
    "    y_true = y_true[np.argsort(y_pred)]\n",
    "    ntrue = 0\n",
    "    gini = 0\n",
    "    delta = 0\n",
    "    n = len(y_true)\n",
    "    for i in range(n-1, -1, -1):\n",
    "        y_i = y_true[i]\n",
    "        ntrue += y_i\n",
    "        gini += y_i * delta\n",
    "        delta += 1 - y_i\n",
    "    gini = 1 - 2 * gini / (ntrue * (n - ntrue))\n",
    "    return gini"
   ]
  },
  {
   "cell_type": "code",
   "execution_count": 13,
   "id": "8df2dbae",
   "metadata": {
    "execution": {
     "iopub.execute_input": "2023-03-05T11:16:02.616732Z",
     "iopub.status.busy": "2023-03-05T11:16:02.616281Z",
     "iopub.status.idle": "2023-03-05T11:16:02.622405Z",
     "shell.execute_reply": "2023-03-05T11:16:02.621227Z"
    },
    "papermill": {
     "duration": 0.018778,
     "end_time": "2023-03-05T11:16:02.625123",
     "exception": false,
     "start_time": "2023-03-05T11:16:02.606345",
     "status": "completed"
    },
    "tags": []
   },
   "outputs": [],
   "source": [
    "def gini_lgb(y_true, y_pred):\n",
    "    eval_name = 'normalized_gini_coef'\n",
    "    eval_result = eval_gini(y_true, y_pred)\n",
    "    is_higher_better = True\n",
    "    return eval_name, eval_result, is_higher_better"
   ]
  },
  {
   "cell_type": "markdown",
   "id": "450e2638",
   "metadata": {
    "papermill": {
     "duration": 0.007815,
     "end_time": "2023-03-05T11:16:02.641171",
     "exception": false,
     "start_time": "2023-03-05T11:16:02.633356",
     "status": "completed"
    },
    "tags": []
   },
   "source": [
    "The training parameters as suggested by [Michael Jahrer](https://www.kaggle.com/mjahrer) in hist discussion post [(1st place with representation learning)](https://www.kaggle.com/competitions/porto-seguro-safe-driver-prediction/discussion/44629) work the best."
   ]
  },
  {
   "cell_type": "markdown",
   "id": "594f76b7",
   "metadata": {
    "papermill": {
     "duration": 0.007757,
     "end_time": "2023-03-05T11:16:02.657754",
     "exception": false,
     "start_time": "2023-03-05T11:16:02.649997",
     "status": "completed"
    },
    "tags": []
   },
   "source": [
    "<div style=\"color:white;display:fill;\n",
    "            background-color:#48AFFF;font-size:160%;\n",
    "            font-family:Arial\">\n",
    "    <p style=\"padding: 4px;color:white;\"><b>3.2 Search by Optuna</b></p>\n",
    "</div>"
   ]
  },
  {
   "cell_type": "code",
   "execution_count": 14,
   "id": "d72fdbdf",
   "metadata": {
    "execution": {
     "iopub.execute_input": "2023-03-05T11:16:02.676361Z",
     "iopub.status.busy": "2023-03-05T11:16:02.675940Z",
     "iopub.status.idle": "2023-03-05T11:16:02.689799Z",
     "shell.execute_reply": "2023-03-05T11:16:02.688468Z"
    },
    "papermill": {
     "duration": 0.026901,
     "end_time": "2023-03-05T11:16:02.692884",
     "exception": false,
     "start_time": "2023-03-05T11:16:02.665983",
     "status": "completed"
    },
    "tags": []
   },
   "outputs": [],
   "source": [
    " if config.optuna_lgb:\n",
    "        \n",
    "    def objective(trial):\n",
    "        params = {\n",
    "                'learning_rate': trial.suggest_float(\"learning_rate\", 0.01, 1.0),\n",
    "                'num_leaves': trial.suggest_int(\"num_leaves\", 3, 255),\n",
    "                'min_child_samples': trial.suggest_int(\"min_child_samples\", 3, 3000),\n",
    "                'colsample_bytree': trial.suggest_float(\"colsample_bytree\", 0.1, 1.0),\n",
    "                'subsample_freq': trial.suggest_int(\"subsample_freq\", 0, 10),\n",
    "                'subsample': trial.suggest_float(\"subsample\", 0.1, 1.0),\n",
    "                'reg_alpha': trial.suggest_loguniform(\"reg_alpha\", 1e-9, 10.0),\n",
    "                'reg_lambda': trial.suggest_loguniform(\"reg_lambda\", 1e-9, 10.0),\n",
    "        }\n",
    "        \n",
    "        score = list()\n",
    "        skf = StratifiedKFold(n_splits=config.cv_folds, shuffle=True, random_state=config.random_state)\n",
    "\n",
    "        for train_idx, valid_idx in skf.split(train, target):\n",
    "            X_train, y_train = train.iloc[train_idx], target.iloc[train_idx]\n",
    "            X_valid, y_valid = train.iloc[valid_idx], target.iloc[valid_idx]\n",
    "\n",
    "            model = lgb.LGBMClassifier(**params,\n",
    "                                    n_estimators=1500,\n",
    "                                    early_stopping_round=150,\n",
    "                                    force_row_wise=True)\n",
    "\n",
    "            callbacks=[lgb.early_stopping(stopping_rounds=150, verbose=False)]\n",
    "            model.fit(X_train, y_train, eval_set=[(X_valid, y_valid)], eval_metric=gini_lgb, callbacks=callbacks)\n",
    "            score.append(model.best_score_['valid_0']['normalized_gini_coef'])\n",
    "\n",
    "        return np.mean(score)\n",
    "\n",
    "    study = optuna.create_study(direction=\"maximize\")\n",
    "    study.optimize(objective, n_trials=300)\n",
    "\n",
    "    print(\"Best Gini Normalized Score\", study.best_value)\n",
    "    print(\"Best parameters\", study.best_params)\n",
    "    \n",
    "    params = {'objective': 'binary',\n",
    "            'boosting_type': 'gbdt',\n",
    "            'verbosity': 0,\n",
    "            'random_state': 0}\n",
    "    \n",
    "    params.update(study.best_params)\n",
    "    \n",
    "else:\n",
    "    params = config.params"
   ]
  },
  {
   "cell_type": "markdown",
   "id": "17a51e05",
   "metadata": {
    "papermill": {
     "duration": 0.007942,
     "end_time": "2023-03-05T11:16:02.709163",
     "exception": false,
     "start_time": "2023-03-05T11:16:02.701221",
     "status": "completed"
    },
    "tags": []
   },
   "source": [
    "# 4. Training and Submission\n",
    "\n",
    "<div style=\"color:white;display:fill;\n",
    "            background-color:#48AFFF;font-size:160%;\n",
    "            font-family:Arial\">\n",
    "    <p style=\"padding: 4px;color:white;\"><b>4.1 Training</b></p>\n",
    "</div>"
   ]
  },
  {
   "cell_type": "code",
   "execution_count": 15,
   "id": "479fc22a",
   "metadata": {
    "execution": {
     "iopub.execute_input": "2023-03-05T11:16:02.728556Z",
     "iopub.status.busy": "2023-03-05T11:16:02.728141Z",
     "iopub.status.idle": "2023-03-05T11:26:44.118664Z",
     "shell.execute_reply": "2023-03-05T11:26:44.117366Z"
    },
    "papermill": {
     "duration": 641.403695,
     "end_time": "2023-03-05T11:26:44.121638",
     "exception": false,
     "start_time": "2023-03-05T11:16:02.717943",
     "status": "completed"
    },
    "tags": []
   },
   "outputs": [
    {
     "name": "stdout",
     "output_type": "stream",
     "text": [
      "CV fold 0\n",
      "Training until validation scores don't improve for 150 rounds\n",
      "[100]\tvalid_0's binary_logloss: 0.153243\tvalid_0's normalized_gini_coef: 0.271457\n",
      "[200]\tvalid_0's binary_logloss: 0.15228\tvalid_0's normalized_gini_coef: 0.280599\n",
      "[300]\tvalid_0's binary_logloss: 0.15185\tvalid_0's normalized_gini_coef: 0.286829\n",
      "[400]\tvalid_0's binary_logloss: 0.151651\tvalid_0's normalized_gini_coef: 0.289906\n",
      "[500]\tvalid_0's binary_logloss: 0.151543\tvalid_0's normalized_gini_coef: 0.291906\n",
      "[600]\tvalid_0's binary_logloss: 0.151473\tvalid_0's normalized_gini_coef: 0.293377\n",
      "[700]\tvalid_0's binary_logloss: 0.151437\tvalid_0's normalized_gini_coef: 0.293827\n",
      "[800]\tvalid_0's binary_logloss: 0.151417\tvalid_0's normalized_gini_coef: 0.294276\n",
      "[900]\tvalid_0's binary_logloss: 0.15142\tvalid_0's normalized_gini_coef: 0.294119\n",
      "Early stopping, best iteration is:\n",
      "[806]\tvalid_0's binary_logloss: 0.151416\tvalid_0's normalized_gini_coef: 0.294311\n",
      "CV fold 1\n",
      "Training until validation scores don't improve for 150 rounds\n",
      "[100]\tvalid_0's binary_logloss: 0.153553\tvalid_0's normalized_gini_coef: 0.255568\n",
      "[200]\tvalid_0's binary_logloss: 0.152779\tvalid_0's normalized_gini_coef: 0.261176\n",
      "[300]\tvalid_0's binary_logloss: 0.152509\tvalid_0's normalized_gini_coef: 0.264598\n",
      "[400]\tvalid_0's binary_logloss: 0.152392\tvalid_0's normalized_gini_coef: 0.266942\n",
      "[500]\tvalid_0's binary_logloss: 0.152334\tvalid_0's normalized_gini_coef: 0.268508\n",
      "[600]\tvalid_0's binary_logloss: 0.15231\tvalid_0's normalized_gini_coef: 0.269259\n",
      "[700]\tvalid_0's binary_logloss: 0.152308\tvalid_0's normalized_gini_coef: 0.269299\n",
      "[800]\tvalid_0's binary_logloss: 0.1523\tvalid_0's normalized_gini_coef: 0.269814\n",
      "[900]\tvalid_0's binary_logloss: 0.152298\tvalid_0's normalized_gini_coef: 0.270119\n",
      "CV fold 2\n",
      "Training until validation scores don't improve for 150 rounds\n",
      "[100]\tvalid_0's binary_logloss: 0.15349\tvalid_0's normalized_gini_coef: 0.250438\n",
      "[200]\tvalid_0's binary_logloss: 0.152638\tvalid_0's normalized_gini_coef: 0.261463\n",
      "[300]\tvalid_0's binary_logloss: 0.152286\tvalid_0's normalized_gini_coef: 0.267762\n",
      "[400]\tvalid_0's binary_logloss: 0.15211\tvalid_0's normalized_gini_coef: 0.271644\n",
      "[500]\tvalid_0's binary_logloss: 0.152015\tvalid_0's normalized_gini_coef: 0.274152\n",
      "[600]\tvalid_0's binary_logloss: 0.151963\tvalid_0's normalized_gini_coef: 0.275609\n",
      "[700]\tvalid_0's binary_logloss: 0.151933\tvalid_0's normalized_gini_coef: 0.276576\n",
      "[800]\tvalid_0's binary_logloss: 0.151919\tvalid_0's normalized_gini_coef: 0.276946\n",
      "[900]\tvalid_0's binary_logloss: 0.151906\tvalid_0's normalized_gini_coef: 0.277448\n",
      "[1000]\tvalid_0's binary_logloss: 0.151911\tvalid_0's normalized_gini_coef: 0.277363\n",
      "CV fold 3\n",
      "Training until validation scores don't improve for 150 rounds\n",
      "[100]\tvalid_0's binary_logloss: 0.153151\tvalid_0's normalized_gini_coef: 0.28492\n",
      "[200]\tvalid_0's binary_logloss: 0.152081\tvalid_0's normalized_gini_coef: 0.294826\n",
      "[300]\tvalid_0's binary_logloss: 0.151594\tvalid_0's normalized_gini_coef: 0.301155\n",
      "[400]\tvalid_0's binary_logloss: 0.151332\tvalid_0's normalized_gini_coef: 0.305416\n",
      "[500]\tvalid_0's binary_logloss: 0.151173\tvalid_0's normalized_gini_coef: 0.308713\n",
      "[600]\tvalid_0's binary_logloss: 0.151074\tvalid_0's normalized_gini_coef: 0.310518\n",
      "[700]\tvalid_0's binary_logloss: 0.151014\tvalid_0's normalized_gini_coef: 0.311803\n",
      "[800]\tvalid_0's binary_logloss: 0.150976\tvalid_0's normalized_gini_coef: 0.312533\n",
      "[900]\tvalid_0's binary_logloss: 0.150947\tvalid_0's normalized_gini_coef: 0.31291\n",
      "[1000]\tvalid_0's binary_logloss: 0.150928\tvalid_0's normalized_gini_coef: 0.313239\n",
      "[1100]\tvalid_0's binary_logloss: 0.15092\tvalid_0's normalized_gini_coef: 0.313284\n",
      "[1200]\tvalid_0's binary_logloss: 0.150921\tvalid_0's normalized_gini_coef: 0.313124\n",
      "Early stopping, best iteration is:\n",
      "[1066]\tvalid_0's binary_logloss: 0.150919\tvalid_0's normalized_gini_coef: 0.313463\n",
      "CV fold 4\n",
      "Training until validation scores don't improve for 150 rounds\n",
      "[100]\tvalid_0's binary_logloss: 0.153417\tvalid_0's normalized_gini_coef: 0.259211\n",
      "[200]\tvalid_0's binary_logloss: 0.152528\tvalid_0's normalized_gini_coef: 0.268649\n",
      "[300]\tvalid_0's binary_logloss: 0.152123\tvalid_0's normalized_gini_coef: 0.27534\n",
      "[400]\tvalid_0's binary_logloss: 0.15192\tvalid_0's normalized_gini_coef: 0.279392\n",
      "[500]\tvalid_0's binary_logloss: 0.151813\tvalid_0's normalized_gini_coef: 0.28184\n",
      "[600]\tvalid_0's binary_logloss: 0.151733\tvalid_0's normalized_gini_coef: 0.283741\n",
      "[700]\tvalid_0's binary_logloss: 0.151682\tvalid_0's normalized_gini_coef: 0.284936\n",
      "[800]\tvalid_0's binary_logloss: 0.151647\tvalid_0's normalized_gini_coef: 0.286006\n",
      "[900]\tvalid_0's binary_logloss: 0.151625\tvalid_0's normalized_gini_coef: 0.28652\n",
      "[1000]\tvalid_0's binary_logloss: 0.151608\tvalid_0's normalized_gini_coef: 0.286903\n",
      "[1100]\tvalid_0's binary_logloss: 0.151595\tvalid_0's normalized_gini_coef: 0.287265\n",
      "[1200]\tvalid_0's binary_logloss: 0.15159\tvalid_0's normalized_gini_coef: 0.287404\n",
      "[1300]\tvalid_0's binary_logloss: 0.151592\tvalid_0's normalized_gini_coef: 0.287313\n",
      "[1400]\tvalid_0's binary_logloss: 0.151593\tvalid_0's normalized_gini_coef: 0.287344\n",
      "Early stopping, best iteration is:\n",
      "[1264]\tvalid_0's binary_logloss: 0.151586\tvalid_0's normalized_gini_coef: 0.287481\n"
     ]
    }
   ],
   "source": [
    "preds = np.zeros(len(test))\n",
    "oof = np.zeros(len(train))\n",
    "metric_evaluations = list()\n",
    "\n",
    "skf = StratifiedKFold(n_splits=config.cv_folds, shuffle=True, random_state=config.random_state)\n",
    "\n",
    "for idx, (train_idx, valid_idx) in enumerate(skf.split(train, target)):\n",
    "    print(f\"CV fold {idx}\")\n",
    "    X_train, y_train = train.iloc[train_idx], target.iloc[train_idx]\n",
    "    X_valid, y_valid = train.iloc[valid_idx], target.iloc[valid_idx]\n",
    "    \n",
    "    model = lgb.LGBMClassifier(**params,\n",
    "                               n_estimators=config.n_estimators,\n",
    "                               early_stopping_round=config.early_stopping_round,\n",
    "                               force_row_wise=True)\n",
    "    \n",
    "    callbacks=[lgb.early_stopping(stopping_rounds=150), \n",
    "               lgb.log_evaluation(period=100, show_stdv=False)]\n",
    "                                                                                           \n",
    "    model.fit(X_train, y_train, eval_set=[(X_valid, y_valid)], eval_metric=gini_lgb, callbacks=callbacks)\n",
    "    metric_evaluations.append(model.best_score_['valid_0']['normalized_gini_coef'])\n",
    "    preds += model.predict_proba(test, num_iteration=model.best_iteration_)[:,1] / skf.n_splits\n",
    "    oof[valid_idx] = model.predict_proba(X_valid, num_iteration=model.best_iteration_)[:,1]"
   ]
  },
  {
   "cell_type": "code",
   "execution_count": 16,
   "id": "f393ff8c",
   "metadata": {
    "execution": {
     "iopub.execute_input": "2023-03-05T11:26:44.148604Z",
     "iopub.status.busy": "2023-03-05T11:26:44.148203Z",
     "iopub.status.idle": "2023-03-05T11:26:44.156947Z",
     "shell.execute_reply": "2023-03-05T11:26:44.155786Z"
    },
    "papermill": {
     "duration": 0.025065,
     "end_time": "2023-03-05T11:26:44.159612",
     "exception": false,
     "start_time": "2023-03-05T11:26:44.134547",
     "status": "completed"
    },
    "tags": []
   },
   "outputs": [
    {
     "name": "stdout",
     "output_type": "stream",
     "text": [
      "LightGBM CV Gini Normalized Score: 0.289 (0.015)\n"
     ]
    }
   ],
   "source": [
    "print(f\"LightGBM CV Gini Normalized Score: {np.mean(metric_evaluations):0.3f} ({np.std(metric_evaluations):0.3f})\")"
   ]
  },
  {
   "cell_type": "markdown",
   "id": "2972e46f",
   "metadata": {
    "papermill": {
     "duration": 0.011936,
     "end_time": "2023-03-05T11:26:44.183927",
     "exception": false,
     "start_time": "2023-03-05T11:26:44.171991",
     "status": "completed"
    },
    "tags": []
   },
   "source": [
    "<div style=\"color:white;display:fill;\n",
    "            background-color:#48AFFF;font-size:160%;\n",
    "            font-family:Arial\">\n",
    "    <p style=\"padding: 4px;color:white;\"><b>4.2 Submission</b></p>\n",
    "</div>"
   ]
  },
  {
   "cell_type": "code",
   "execution_count": 17,
   "id": "749644ba",
   "metadata": {
    "execution": {
     "iopub.execute_input": "2023-03-05T11:26:44.210582Z",
     "iopub.status.busy": "2023-03-05T11:26:44.209594Z",
     "iopub.status.idle": "2023-03-05T11:26:46.449195Z",
     "shell.execute_reply": "2023-03-05T11:26:46.448192Z"
    },
    "papermill": {
     "duration": 2.255808,
     "end_time": "2023-03-05T11:26:46.451941",
     "exception": false,
     "start_time": "2023-03-05T11:26:44.196133",
     "status": "completed"
    },
    "tags": []
   },
   "outputs": [],
   "source": [
    "submission['target'] = preds\n",
    "submission.to_csv('submission.csv')"
   ]
  },
  {
   "cell_type": "code",
   "execution_count": 18,
   "id": "e5d5e103",
   "metadata": {
    "execution": {
     "iopub.execute_input": "2023-03-05T11:26:46.479389Z",
     "iopub.status.busy": "2023-03-05T11:26:46.478646Z",
     "iopub.status.idle": "2023-03-05T11:26:47.955197Z",
     "shell.execute_reply": "2023-03-05T11:26:47.954087Z"
    },
    "papermill": {
     "duration": 1.493461,
     "end_time": "2023-03-05T11:26:47.957928",
     "exception": false,
     "start_time": "2023-03-05T11:26:46.464467",
     "status": "completed"
    },
    "tags": []
   },
   "outputs": [],
   "source": [
    "oofs = target.to_frame()\n",
    "oofs['target'] = oof\n",
    "oofs.to_csv('lgb_oof.csv')"
   ]
  },
  {
   "cell_type": "markdown",
   "id": "9ff14125",
   "metadata": {
    "papermill": {
     "duration": 0.011792,
     "end_time": "2023-03-05T11:26:47.982039",
     "exception": false,
     "start_time": "2023-03-05T11:26:47.970247",
     "status": "completed"
    },
    "tags": []
   },
   "source": [
    "# 5. References\n",
    "\n",
    "<div style=\"color:white;display:fill;\n",
    "            background-color:#48AFFF;font-size:160%;\n",
    "            font-family:Arial\">\n",
    "    <p style=\"padding: 4px;color:white;\"><b>5.1 References</b></p>\n",
    "</div>\n",
    "\n",
    "* Banachewicz, Konrad; Massaron, Luca. [The Kaggle Book](https://www.kaggle.com/general/320574): Data analysis and machine learning for competitive data science. Packt Publishing\n",
    "* Banachewicz, Konrad; Massaron, Luca. [The Kaggle Workbook](https://www.amazon.com/Kaggle-Workbook-Self-learning-exercises-competitions/dp/1804611212): Self-learning exercises and valuable insights for Kaggle data science competitions. Packt Publishing. \n",
    "* [workbook_lgb](https://www.kaggle.com/code/lucamassaron/workbook-lgb) by [Luca Massaron](https://www.kaggle.com/lucamassaron)\n",
    "* [Why removing ps_calc features improve the results?](https://www.kaggle.com/competitions/porto-seguro-safe-driver-prediction/discussion/41970) by [Hossein Amirkhani](https://www.kaggle.com/hatime)"
   ]
  },
  {
   "cell_type": "code",
   "execution_count": null,
   "id": "c12fd367",
   "metadata": {
    "papermill": {
     "duration": 0.012208,
     "end_time": "2023-03-05T11:26:48.006337",
     "exception": false,
     "start_time": "2023-03-05T11:26:47.994129",
     "status": "completed"
    },
    "tags": []
   },
   "outputs": [],
   "source": []
  }
 ],
 "metadata": {
  "kernelspec": {
   "display_name": "Python 3",
   "language": "python",
   "name": "python3"
  },
  "language_info": {
   "codemirror_mode": {
    "name": "ipython",
    "version": 3
   },
   "file_extension": ".py",
   "mimetype": "text/x-python",
   "name": "python",
   "nbconvert_exporter": "python",
   "pygments_lexer": "ipython3",
   "version": "3.7.12"
  },
  "papermill": {
   "default_parameters": {},
   "duration": 676.100099,
   "end_time": "2023-03-05T11:26:49.145681",
   "environment_variables": {},
   "exception": null,
   "input_path": "__notebook__.ipynb",
   "output_path": "__notebook__.ipynb",
   "parameters": {},
   "start_time": "2023-03-05T11:15:33.045582",
   "version": "2.4.0"
  }
 },
 "nbformat": 4,
 "nbformat_minor": 5
}
