{
 "cells": [
  {
   "cell_type": "markdown",
   "id": "cada204b",
   "metadata": {
    "papermill": {
     "duration": 0.008993,
     "end_time": "2023-03-07T06:04:51.617420",
     "exception": false,
     "start_time": "2023-03-07T06:04:51.608427",
     "status": "completed"
    },
    "tags": []
   },
   "source": [
    "# 1. Introduction\n",
    "\n",
    "<div style=\"color:white;display:fill;\n",
    "            background-color:#48AFFF;font-size:160%;\n",
    "            font-family:Arial\">\n",
    "    <p style=\"padding: 4px;color:white;\"><b>1.1 Context</b></p>\n",
    "</div>\n",
    "\n",
    "LightGBM implemenation for the Porto Seguro's Safe Driver Prediction competition."
   ]
  },
  {
   "cell_type": "markdown",
   "id": "6a897be6",
   "metadata": {
    "papermill": {
     "duration": 0.007251,
     "end_time": "2023-03-07T06:04:51.632602",
     "exception": false,
     "start_time": "2023-03-07T06:04:51.625351",
     "status": "completed"
    },
    "tags": []
   },
   "source": [
    "<div style=\"color:white;display:fill;\n",
    "            background-color:#48AFFF;font-size:160%;\n",
    "            font-family:Arial\">\n",
    "    <p style=\"padding: 4px;color:white;\"><b>1.2 Used code</b></p>\n",
    "</div>\n",
    "\n",
    "The code used is adapted from the chapter Buidling a LightGBM submission in [The Kaggle Workbook](https://www.amazon.com/Kaggle-Workbook-Self-learning-exercises-competitions/dp/1804611212) by [(Banachewicz & Massaron)](#5.-References) and directly from the workbook [workbook_lgb](https://www.kaggle.com/code/lucamassaron/workbook-lgb) by [Luca Massaron](https://www.kaggle.com/lucamassaron)."
   ]
  },
  {
   "cell_type": "markdown",
   "id": "f9e76ae1",
   "metadata": {
    "papermill": {
     "duration": 0.007292,
     "end_time": "2023-03-07T06:04:51.647358",
     "exception": false,
     "start_time": "2023-03-07T06:04:51.640066",
     "status": "completed"
    },
    "tags": []
   },
   "source": [
    "<div style=\"color:white;display:fill;\n",
    "            background-color:#48AFFF;font-size:160%;\n",
    "            font-family:Arial\">\n",
    "    <p style=\"padding: 4px;color:white;\"><b>1.3 Libraries</b></p>\n",
    "</div>\n"
   ]
  },
  {
   "cell_type": "code",
   "execution_count": 1,
   "id": "5ce35775",
   "metadata": {
    "execution": {
     "iopub.execute_input": "2023-03-07T06:04:51.665045Z",
     "iopub.status.busy": "2023-03-07T06:04:51.664573Z",
     "iopub.status.idle": "2023-03-07T06:04:56.406059Z",
     "shell.execute_reply": "2023-03-07T06:04:56.404707Z"
    },
    "papermill": {
     "duration": 4.754572,
     "end_time": "2023-03-07T06:04:56.409539",
     "exception": false,
     "start_time": "2023-03-07T06:04:51.654967",
     "status": "completed"
    },
    "tags": []
   },
   "outputs": [
    {
     "data": {
      "text/html": [
       "<style type='text/css'>\n",
       ".datatable table.frame { margin-bottom: 0; }\n",
       ".datatable table.frame thead { border-bottom: none; }\n",
       ".datatable table.frame tr.coltypes td {  color: #FFFFFF;  line-height: 6px;  padding: 0 0.5em;}\n",
       ".datatable .bool    { background: #DDDD99; }\n",
       ".datatable .object  { background: #565656; }\n",
       ".datatable .int     { background: #5D9E5D; }\n",
       ".datatable .float   { background: #4040CC; }\n",
       ".datatable .str     { background: #CC4040; }\n",
       ".datatable .time    { background: #40CC40; }\n",
       ".datatable .row_index {  background: var(--jp-border-color3);  border-right: 1px solid var(--jp-border-color0);  color: var(--jp-ui-font-color3);  font-size: 9px;}\n",
       ".datatable .frame tbody td { text-align: left; }\n",
       ".datatable .frame tr.coltypes .row_index {  background: var(--jp-border-color0);}\n",
       ".datatable th:nth-child(2) { padding-left: 12px; }\n",
       ".datatable .hellipsis {  color: var(--jp-cell-editor-border-color);}\n",
       ".datatable .vellipsis {  background: var(--jp-layout-color0);  color: var(--jp-cell-editor-border-color);}\n",
       ".datatable .na {  color: var(--jp-cell-editor-border-color);  font-size: 80%;}\n",
       ".datatable .sp {  opacity: 0.25;}\n",
       ".datatable .footer { font-size: 9px; }\n",
       ".datatable .frame_dimensions {  background: var(--jp-border-color3);  border-top: 1px solid var(--jp-border-color0);  color: var(--jp-ui-font-color3);  display: inline-block;  opacity: 0.6;  padding: 1px 10px 1px 5px;}\n",
       "</style>\n"
      ],
      "text/plain": [
       "<IPython.core.display.HTML object>"
      ]
     },
     "metadata": {},
     "output_type": "display_data"
    }
   ],
   "source": [
    "import numpy as np\n",
    "import pandas as pd\n",
    "import optuna\n",
    "import lightgbm as lgb\n",
    "\n",
    "from numba import jit\n",
    "from path import Path\n",
    "from sklearn.model_selection import StratifiedKFold"
   ]
  },
  {
   "cell_type": "markdown",
   "id": "517dcc34",
   "metadata": {
    "papermill": {
     "duration": 0.007749,
     "end_time": "2023-03-07T06:04:56.425427",
     "exception": false,
     "start_time": "2023-03-07T06:04:56.417678",
     "status": "completed"
    },
    "tags": []
   },
   "source": [
    "# 2. Data Processing\n",
    "\n",
    "<div style=\"color:white;display:fill;\n",
    "            background-color:#48AFFF;font-size:160%;\n",
    "            font-family:Arial\">\n",
    "    <p style=\"padding: 4px;color:white;\"><b>2.1 Configuration Class</b></p>\n",
    "</div>\n",
    "\n",
    "For ease of use and modifiability we are using a config class. This allows us to have all parameters in one place and easily change them without having to go through the code having to look for changes we missed. \n",
    "\n",
    "The params set here are based on the discussion post of [Michael Jahrer](https://www.kaggle.com/mjahrer) [(1st place with representation learning)](https://www.kaggle.com/competitions/porto-seguro-safe-driver-prediction/discussion/44629)\n",
    "\n",
    "The optuna_lgb flag will come into effect in [chapter 3](#3.-Evaluation-Metric) where we define a function to perform a search with [Optuna]( https://optuna.org/) to automate our hyperparameter search. If the flag is set to False, then we will stick with the parameters proposed by [Michael Jahrer](https://www.kaggle.com/competitions/porto-seguro-safe-driver-prediction/discussion/44629).\n",
    "\n",
    "Config_Optuna contains the values that came as a result of running the search with [Optuna]( https://optuna.org/)."
   ]
  },
  {
   "cell_type": "code",
   "execution_count": 2,
   "id": "92fea101",
   "metadata": {
    "execution": {
     "iopub.execute_input": "2023-03-07T06:04:56.443499Z",
     "iopub.status.busy": "2023-03-07T06:04:56.442999Z",
     "iopub.status.idle": "2023-03-07T06:04:56.453767Z",
     "shell.execute_reply": "2023-03-07T06:04:56.452474Z"
    },
    "papermill": {
     "duration": 0.022755,
     "end_time": "2023-03-07T06:04:56.456070",
     "exception": false,
     "start_time": "2023-03-07T06:04:56.433315",
     "status": "completed"
    },
    "tags": []
   },
   "outputs": [],
   "source": [
    "class Config_Jahrer:\n",
    "    input_path = Path('../input/porto-seguro-safe-driver-prediction')\n",
    "    optuna_lgb = False\n",
    "    n_estimators = 1500\n",
    "    early_stopping_round = 150\n",
    "    cv_folds = 5\n",
    "    random_state = 0\n",
    "    params = {'objective': 'binary',\n",
    "              'boosting_type': 'gbdt',\n",
    "              'learning_rate': 0.01,\n",
    "              'max_bin': 25,\n",
    "              'num_leaves': 31,\n",
    "              'min_child_samples': 1500,\n",
    "              'colsample_bytree': 0.7,\n",
    "              'subsample_freq': 1,\n",
    "              'subsample': 0.7,\n",
    "              'reg_alpha': 1.0,\n",
    "              'reg_lambda': 1.0,\n",
    "              'verbosity': 0,\n",
    "              'random_state': 0}\n",
    "    \n",
    "class Config_Optuna:\n",
    "    input_path = Path('../input/porto-seguro-safe-driver-prediction')\n",
    "    optuna_lgb = False\n",
    "    n_estimators = 1500\n",
    "    early_stopping_round = 150\n",
    "    cv_folds = 5\n",
    "    random_state = 0\n",
    "    params = {'objective': 'binary',\n",
    "              'boosting_type': 'gbdt',\n",
    "              'learning_rate': 0.011967899898885897,\n",
    "              'max_bin': 25,\n",
    "              'num_leaves': 28,\n",
    "              'min_child_samples': 2355,\n",
    "              'colsample_bytree': 0.5423725039317776,\n",
    "              'subsample_freq': 9,\n",
    "              'subsample': 0.9158581442164284,\n",
    "              'reg_alpha': 1.1294388302276255e-07,\n",
    "              'reg_lambda': 1.823664272960681e-05,\n",
    "              'verbosity': 0,\n",
    "              'random_state': 0}\n",
    "    \n",
    "config = Config_Optuna()\n"
   ]
  },
  {
   "cell_type": "markdown",
   "id": "71c4a71a",
   "metadata": {
    "papermill": {
     "duration": 0.007507,
     "end_time": "2023-03-07T06:04:56.471499",
     "exception": false,
     "start_time": "2023-03-07T06:04:56.463992",
     "status": "completed"
    },
    "tags": []
   },
   "source": [
    "<div style=\"color:white;display:fill;\n",
    "            background-color:#48AFFF;font-size:160%;\n",
    "            font-family:Arial\">\n",
    "    <p style=\"padding: 4px;color:white;\"><b>2.2 Loading the data</b></p>\n",
    "</div>\n"
   ]
  },
  {
   "cell_type": "code",
   "execution_count": 3,
   "id": "ac0b558b",
   "metadata": {
    "execution": {
     "iopub.execute_input": "2023-03-07T06:04:56.490702Z",
     "iopub.status.busy": "2023-03-07T06:04:56.490244Z",
     "iopub.status.idle": "2023-03-07T06:05:08.901880Z",
     "shell.execute_reply": "2023-03-07T06:05:08.900632Z"
    },
    "papermill": {
     "duration": 12.426527,
     "end_time": "2023-03-07T06:05:08.905705",
     "exception": false,
     "start_time": "2023-03-07T06:04:56.479178",
     "status": "completed"
    },
    "tags": []
   },
   "outputs": [],
   "source": [
    "train = pd.read_csv(config.input_path / 'train.csv', index_col='id')\n",
    "test = pd.read_csv(config.input_path / 'test.csv', index_col='id')\n",
    "submission = pd.read_csv(config.input_path / 'sample_submission.csv', index_col='id')"
   ]
  },
  {
   "cell_type": "code",
   "execution_count": 4,
   "id": "433a362c",
   "metadata": {
    "execution": {
     "iopub.execute_input": "2023-03-07T06:05:08.923964Z",
     "iopub.status.busy": "2023-03-07T06:05:08.923451Z",
     "iopub.status.idle": "2023-03-07T06:05:08.929853Z",
     "shell.execute_reply": "2023-03-07T06:05:08.928423Z"
    },
    "papermill": {
     "duration": 0.019244,
     "end_time": "2023-03-07T06:05:08.933082",
     "exception": false,
     "start_time": "2023-03-07T06:05:08.913838",
     "status": "completed"
    },
    "tags": []
   },
   "outputs": [],
   "source": [
    "calc_features = [feat for feat in train.columns if \"_calc\" in feat]\n",
    "cat_features = [feat for feat in train.columns if \"_cat\" in feat]"
   ]
  },
  {
   "cell_type": "code",
   "execution_count": 5,
   "id": "86f00115",
   "metadata": {
    "execution": {
     "iopub.execute_input": "2023-03-07T06:05:08.951862Z",
     "iopub.status.busy": "2023-03-07T06:05:08.951363Z",
     "iopub.status.idle": "2023-03-07T06:05:08.985771Z",
     "shell.execute_reply": "2023-03-07T06:05:08.984427Z"
    },
    "papermill": {
     "duration": 0.04715,
     "end_time": "2023-03-07T06:05:08.988732",
     "exception": false,
     "start_time": "2023-03-07T06:05:08.941582",
     "status": "completed"
    },
    "tags": []
   },
   "outputs": [
    {
     "data": {
      "text/html": [
       "<div>\n",
       "<style scoped>\n",
       "    .dataframe tbody tr th:only-of-type {\n",
       "        vertical-align: middle;\n",
       "    }\n",
       "\n",
       "    .dataframe tbody tr th {\n",
       "        vertical-align: top;\n",
       "    }\n",
       "\n",
       "    .dataframe thead th {\n",
       "        text-align: right;\n",
       "    }\n",
       "</style>\n",
       "<table border=\"1\" class=\"dataframe\">\n",
       "  <thead>\n",
       "    <tr style=\"text-align: right;\">\n",
       "      <th></th>\n",
       "      <th>target</th>\n",
       "      <th>ps_ind_01</th>\n",
       "      <th>ps_ind_02_cat</th>\n",
       "      <th>ps_ind_03</th>\n",
       "      <th>ps_ind_04_cat</th>\n",
       "      <th>ps_ind_05_cat</th>\n",
       "      <th>ps_ind_06_bin</th>\n",
       "      <th>ps_ind_07_bin</th>\n",
       "      <th>ps_ind_08_bin</th>\n",
       "      <th>ps_ind_09_bin</th>\n",
       "      <th>...</th>\n",
       "      <th>ps_calc_11</th>\n",
       "      <th>ps_calc_12</th>\n",
       "      <th>ps_calc_13</th>\n",
       "      <th>ps_calc_14</th>\n",
       "      <th>ps_calc_15_bin</th>\n",
       "      <th>ps_calc_16_bin</th>\n",
       "      <th>ps_calc_17_bin</th>\n",
       "      <th>ps_calc_18_bin</th>\n",
       "      <th>ps_calc_19_bin</th>\n",
       "      <th>ps_calc_20_bin</th>\n",
       "    </tr>\n",
       "    <tr>\n",
       "      <th>id</th>\n",
       "      <th></th>\n",
       "      <th></th>\n",
       "      <th></th>\n",
       "      <th></th>\n",
       "      <th></th>\n",
       "      <th></th>\n",
       "      <th></th>\n",
       "      <th></th>\n",
       "      <th></th>\n",
       "      <th></th>\n",
       "      <th></th>\n",
       "      <th></th>\n",
       "      <th></th>\n",
       "      <th></th>\n",
       "      <th></th>\n",
       "      <th></th>\n",
       "      <th></th>\n",
       "      <th></th>\n",
       "      <th></th>\n",
       "      <th></th>\n",
       "      <th></th>\n",
       "    </tr>\n",
       "  </thead>\n",
       "  <tbody>\n",
       "    <tr>\n",
       "      <th>7</th>\n",
       "      <td>0</td>\n",
       "      <td>2</td>\n",
       "      <td>2</td>\n",
       "      <td>5</td>\n",
       "      <td>1</td>\n",
       "      <td>0</td>\n",
       "      <td>0</td>\n",
       "      <td>1</td>\n",
       "      <td>0</td>\n",
       "      <td>0</td>\n",
       "      <td>...</td>\n",
       "      <td>9</td>\n",
       "      <td>1</td>\n",
       "      <td>5</td>\n",
       "      <td>8</td>\n",
       "      <td>0</td>\n",
       "      <td>1</td>\n",
       "      <td>1</td>\n",
       "      <td>0</td>\n",
       "      <td>0</td>\n",
       "      <td>1</td>\n",
       "    </tr>\n",
       "    <tr>\n",
       "      <th>9</th>\n",
       "      <td>0</td>\n",
       "      <td>1</td>\n",
       "      <td>1</td>\n",
       "      <td>7</td>\n",
       "      <td>0</td>\n",
       "      <td>0</td>\n",
       "      <td>0</td>\n",
       "      <td>0</td>\n",
       "      <td>1</td>\n",
       "      <td>0</td>\n",
       "      <td>...</td>\n",
       "      <td>3</td>\n",
       "      <td>1</td>\n",
       "      <td>1</td>\n",
       "      <td>9</td>\n",
       "      <td>0</td>\n",
       "      <td>1</td>\n",
       "      <td>1</td>\n",
       "      <td>0</td>\n",
       "      <td>1</td>\n",
       "      <td>0</td>\n",
       "    </tr>\n",
       "    <tr>\n",
       "      <th>13</th>\n",
       "      <td>0</td>\n",
       "      <td>5</td>\n",
       "      <td>4</td>\n",
       "      <td>9</td>\n",
       "      <td>1</td>\n",
       "      <td>0</td>\n",
       "      <td>0</td>\n",
       "      <td>0</td>\n",
       "      <td>1</td>\n",
       "      <td>0</td>\n",
       "      <td>...</td>\n",
       "      <td>4</td>\n",
       "      <td>2</td>\n",
       "      <td>7</td>\n",
       "      <td>7</td>\n",
       "      <td>0</td>\n",
       "      <td>1</td>\n",
       "      <td>1</td>\n",
       "      <td>0</td>\n",
       "      <td>1</td>\n",
       "      <td>0</td>\n",
       "    </tr>\n",
       "    <tr>\n",
       "      <th>16</th>\n",
       "      <td>0</td>\n",
       "      <td>0</td>\n",
       "      <td>1</td>\n",
       "      <td>2</td>\n",
       "      <td>0</td>\n",
       "      <td>0</td>\n",
       "      <td>1</td>\n",
       "      <td>0</td>\n",
       "      <td>0</td>\n",
       "      <td>0</td>\n",
       "      <td>...</td>\n",
       "      <td>2</td>\n",
       "      <td>2</td>\n",
       "      <td>4</td>\n",
       "      <td>9</td>\n",
       "      <td>0</td>\n",
       "      <td>0</td>\n",
       "      <td>0</td>\n",
       "      <td>0</td>\n",
       "      <td>0</td>\n",
       "      <td>0</td>\n",
       "    </tr>\n",
       "    <tr>\n",
       "      <th>17</th>\n",
       "      <td>0</td>\n",
       "      <td>0</td>\n",
       "      <td>2</td>\n",
       "      <td>0</td>\n",
       "      <td>1</td>\n",
       "      <td>0</td>\n",
       "      <td>1</td>\n",
       "      <td>0</td>\n",
       "      <td>0</td>\n",
       "      <td>0</td>\n",
       "      <td>...</td>\n",
       "      <td>3</td>\n",
       "      <td>1</td>\n",
       "      <td>1</td>\n",
       "      <td>3</td>\n",
       "      <td>0</td>\n",
       "      <td>0</td>\n",
       "      <td>0</td>\n",
       "      <td>1</td>\n",
       "      <td>1</td>\n",
       "      <td>0</td>\n",
       "    </tr>\n",
       "  </tbody>\n",
       "</table>\n",
       "<p>5 rows × 58 columns</p>\n",
       "</div>"
      ],
      "text/plain": [
       "    target  ps_ind_01  ps_ind_02_cat  ps_ind_03  ps_ind_04_cat  ps_ind_05_cat  \\\n",
       "id                                                                              \n",
       "7        0          2              2          5              1              0   \n",
       "9        0          1              1          7              0              0   \n",
       "13       0          5              4          9              1              0   \n",
       "16       0          0              1          2              0              0   \n",
       "17       0          0              2          0              1              0   \n",
       "\n",
       "    ps_ind_06_bin  ps_ind_07_bin  ps_ind_08_bin  ps_ind_09_bin  ...  \\\n",
       "id                                                              ...   \n",
       "7               0              1              0              0  ...   \n",
       "9               0              0              1              0  ...   \n",
       "13              0              0              1              0  ...   \n",
       "16              1              0              0              0  ...   \n",
       "17              1              0              0              0  ...   \n",
       "\n",
       "    ps_calc_11  ps_calc_12  ps_calc_13  ps_calc_14  ps_calc_15_bin  \\\n",
       "id                                                                   \n",
       "7            9           1           5           8               0   \n",
       "9            3           1           1           9               0   \n",
       "13           4           2           7           7               0   \n",
       "16           2           2           4           9               0   \n",
       "17           3           1           1           3               0   \n",
       "\n",
       "    ps_calc_16_bin  ps_calc_17_bin  ps_calc_18_bin  ps_calc_19_bin  \\\n",
       "id                                                                   \n",
       "7                1               1               0               0   \n",
       "9                1               1               0               1   \n",
       "13               1               1               0               1   \n",
       "16               0               0               0               0   \n",
       "17               0               0               1               1   \n",
       "\n",
       "    ps_calc_20_bin  \n",
       "id                  \n",
       "7                1  \n",
       "9                0  \n",
       "13               0  \n",
       "16               0  \n",
       "17               0  \n",
       "\n",
       "[5 rows x 58 columns]"
      ]
     },
     "execution_count": 5,
     "metadata": {},
     "output_type": "execute_result"
    }
   ],
   "source": [
    "train.head()"
   ]
  },
  {
   "cell_type": "code",
   "execution_count": 6,
   "id": "ceae276d",
   "metadata": {
    "execution": {
     "iopub.execute_input": "2023-03-07T06:05:09.008308Z",
     "iopub.status.busy": "2023-03-07T06:05:09.007757Z",
     "iopub.status.idle": "2023-03-07T06:05:09.029005Z",
     "shell.execute_reply": "2023-03-07T06:05:09.027790Z"
    },
    "papermill": {
     "duration": 0.034106,
     "end_time": "2023-03-07T06:05:09.031686",
     "exception": false,
     "start_time": "2023-03-07T06:05:08.997580",
     "status": "completed"
    },
    "tags": []
   },
   "outputs": [
    {
     "data": {
      "text/html": [
       "<div>\n",
       "<style scoped>\n",
       "    .dataframe tbody tr th:only-of-type {\n",
       "        vertical-align: middle;\n",
       "    }\n",
       "\n",
       "    .dataframe tbody tr th {\n",
       "        vertical-align: top;\n",
       "    }\n",
       "\n",
       "    .dataframe thead th {\n",
       "        text-align: right;\n",
       "    }\n",
       "</style>\n",
       "<table border=\"1\" class=\"dataframe\">\n",
       "  <thead>\n",
       "    <tr style=\"text-align: right;\">\n",
       "      <th></th>\n",
       "      <th>ps_ind_01</th>\n",
       "      <th>ps_ind_02_cat</th>\n",
       "      <th>ps_ind_03</th>\n",
       "      <th>ps_ind_04_cat</th>\n",
       "      <th>ps_ind_05_cat</th>\n",
       "      <th>ps_ind_06_bin</th>\n",
       "      <th>ps_ind_07_bin</th>\n",
       "      <th>ps_ind_08_bin</th>\n",
       "      <th>ps_ind_09_bin</th>\n",
       "      <th>ps_ind_10_bin</th>\n",
       "      <th>...</th>\n",
       "      <th>ps_calc_11</th>\n",
       "      <th>ps_calc_12</th>\n",
       "      <th>ps_calc_13</th>\n",
       "      <th>ps_calc_14</th>\n",
       "      <th>ps_calc_15_bin</th>\n",
       "      <th>ps_calc_16_bin</th>\n",
       "      <th>ps_calc_17_bin</th>\n",
       "      <th>ps_calc_18_bin</th>\n",
       "      <th>ps_calc_19_bin</th>\n",
       "      <th>ps_calc_20_bin</th>\n",
       "    </tr>\n",
       "    <tr>\n",
       "      <th>id</th>\n",
       "      <th></th>\n",
       "      <th></th>\n",
       "      <th></th>\n",
       "      <th></th>\n",
       "      <th></th>\n",
       "      <th></th>\n",
       "      <th></th>\n",
       "      <th></th>\n",
       "      <th></th>\n",
       "      <th></th>\n",
       "      <th></th>\n",
       "      <th></th>\n",
       "      <th></th>\n",
       "      <th></th>\n",
       "      <th></th>\n",
       "      <th></th>\n",
       "      <th></th>\n",
       "      <th></th>\n",
       "      <th></th>\n",
       "      <th></th>\n",
       "      <th></th>\n",
       "    </tr>\n",
       "  </thead>\n",
       "  <tbody>\n",
       "    <tr>\n",
       "      <th>0</th>\n",
       "      <td>0</td>\n",
       "      <td>1</td>\n",
       "      <td>8</td>\n",
       "      <td>1</td>\n",
       "      <td>0</td>\n",
       "      <td>0</td>\n",
       "      <td>1</td>\n",
       "      <td>0</td>\n",
       "      <td>0</td>\n",
       "      <td>0</td>\n",
       "      <td>...</td>\n",
       "      <td>1</td>\n",
       "      <td>1</td>\n",
       "      <td>1</td>\n",
       "      <td>12</td>\n",
       "      <td>0</td>\n",
       "      <td>1</td>\n",
       "      <td>1</td>\n",
       "      <td>0</td>\n",
       "      <td>0</td>\n",
       "      <td>1</td>\n",
       "    </tr>\n",
       "    <tr>\n",
       "      <th>1</th>\n",
       "      <td>4</td>\n",
       "      <td>2</td>\n",
       "      <td>5</td>\n",
       "      <td>1</td>\n",
       "      <td>0</td>\n",
       "      <td>0</td>\n",
       "      <td>0</td>\n",
       "      <td>0</td>\n",
       "      <td>1</td>\n",
       "      <td>0</td>\n",
       "      <td>...</td>\n",
       "      <td>2</td>\n",
       "      <td>0</td>\n",
       "      <td>3</td>\n",
       "      <td>10</td>\n",
       "      <td>0</td>\n",
       "      <td>0</td>\n",
       "      <td>1</td>\n",
       "      <td>1</td>\n",
       "      <td>0</td>\n",
       "      <td>1</td>\n",
       "    </tr>\n",
       "    <tr>\n",
       "      <th>2</th>\n",
       "      <td>5</td>\n",
       "      <td>1</td>\n",
       "      <td>3</td>\n",
       "      <td>0</td>\n",
       "      <td>0</td>\n",
       "      <td>0</td>\n",
       "      <td>0</td>\n",
       "      <td>0</td>\n",
       "      <td>1</td>\n",
       "      <td>0</td>\n",
       "      <td>...</td>\n",
       "      <td>4</td>\n",
       "      <td>0</td>\n",
       "      <td>2</td>\n",
       "      <td>4</td>\n",
       "      <td>0</td>\n",
       "      <td>0</td>\n",
       "      <td>0</td>\n",
       "      <td>0</td>\n",
       "      <td>0</td>\n",
       "      <td>0</td>\n",
       "    </tr>\n",
       "    <tr>\n",
       "      <th>3</th>\n",
       "      <td>0</td>\n",
       "      <td>1</td>\n",
       "      <td>6</td>\n",
       "      <td>0</td>\n",
       "      <td>0</td>\n",
       "      <td>1</td>\n",
       "      <td>0</td>\n",
       "      <td>0</td>\n",
       "      <td>0</td>\n",
       "      <td>0</td>\n",
       "      <td>...</td>\n",
       "      <td>5</td>\n",
       "      <td>1</td>\n",
       "      <td>0</td>\n",
       "      <td>5</td>\n",
       "      <td>1</td>\n",
       "      <td>0</td>\n",
       "      <td>1</td>\n",
       "      <td>0</td>\n",
       "      <td>0</td>\n",
       "      <td>0</td>\n",
       "    </tr>\n",
       "    <tr>\n",
       "      <th>4</th>\n",
       "      <td>5</td>\n",
       "      <td>1</td>\n",
       "      <td>7</td>\n",
       "      <td>0</td>\n",
       "      <td>0</td>\n",
       "      <td>0</td>\n",
       "      <td>0</td>\n",
       "      <td>0</td>\n",
       "      <td>1</td>\n",
       "      <td>0</td>\n",
       "      <td>...</td>\n",
       "      <td>4</td>\n",
       "      <td>0</td>\n",
       "      <td>0</td>\n",
       "      <td>4</td>\n",
       "      <td>0</td>\n",
       "      <td>1</td>\n",
       "      <td>1</td>\n",
       "      <td>0</td>\n",
       "      <td>0</td>\n",
       "      <td>1</td>\n",
       "    </tr>\n",
       "  </tbody>\n",
       "</table>\n",
       "<p>5 rows × 57 columns</p>\n",
       "</div>"
      ],
      "text/plain": [
       "    ps_ind_01  ps_ind_02_cat  ps_ind_03  ps_ind_04_cat  ps_ind_05_cat  \\\n",
       "id                                                                      \n",
       "0           0              1          8              1              0   \n",
       "1           4              2          5              1              0   \n",
       "2           5              1          3              0              0   \n",
       "3           0              1          6              0              0   \n",
       "4           5              1          7              0              0   \n",
       "\n",
       "    ps_ind_06_bin  ps_ind_07_bin  ps_ind_08_bin  ps_ind_09_bin  ps_ind_10_bin  \\\n",
       "id                                                                              \n",
       "0               0              1              0              0              0   \n",
       "1               0              0              0              1              0   \n",
       "2               0              0              0              1              0   \n",
       "3               1              0              0              0              0   \n",
       "4               0              0              0              1              0   \n",
       "\n",
       "    ...  ps_calc_11  ps_calc_12  ps_calc_13  ps_calc_14  ps_calc_15_bin  \\\n",
       "id  ...                                                                   \n",
       "0   ...           1           1           1          12               0   \n",
       "1   ...           2           0           3          10               0   \n",
       "2   ...           4           0           2           4               0   \n",
       "3   ...           5           1           0           5               1   \n",
       "4   ...           4           0           0           4               0   \n",
       "\n",
       "    ps_calc_16_bin  ps_calc_17_bin  ps_calc_18_bin  ps_calc_19_bin  \\\n",
       "id                                                                   \n",
       "0                1               1               0               0   \n",
       "1                0               1               1               0   \n",
       "2                0               0               0               0   \n",
       "3                0               1               0               0   \n",
       "4                1               1               0               0   \n",
       "\n",
       "    ps_calc_20_bin  \n",
       "id                  \n",
       "0                1  \n",
       "1                1  \n",
       "2                0  \n",
       "3                0  \n",
       "4                1  \n",
       "\n",
       "[5 rows x 57 columns]"
      ]
     },
     "execution_count": 6,
     "metadata": {},
     "output_type": "execute_result"
    }
   ],
   "source": [
    "test.head()"
   ]
  },
  {
   "cell_type": "code",
   "execution_count": 7,
   "id": "bf8488b2",
   "metadata": {
    "execution": {
     "iopub.execute_input": "2023-03-07T06:05:09.051958Z",
     "iopub.status.busy": "2023-03-07T06:05:09.051481Z",
     "iopub.status.idle": "2023-03-07T06:05:09.063447Z",
     "shell.execute_reply": "2023-03-07T06:05:09.061936Z"
    },
    "papermill": {
     "duration": 0.025018,
     "end_time": "2023-03-07T06:05:09.066038",
     "exception": false,
     "start_time": "2023-03-07T06:05:09.041020",
     "status": "completed"
    },
    "tags": []
   },
   "outputs": [
    {
     "data": {
      "text/html": [
       "<div>\n",
       "<style scoped>\n",
       "    .dataframe tbody tr th:only-of-type {\n",
       "        vertical-align: middle;\n",
       "    }\n",
       "\n",
       "    .dataframe tbody tr th {\n",
       "        vertical-align: top;\n",
       "    }\n",
       "\n",
       "    .dataframe thead th {\n",
       "        text-align: right;\n",
       "    }\n",
       "</style>\n",
       "<table border=\"1\" class=\"dataframe\">\n",
       "  <thead>\n",
       "    <tr style=\"text-align: right;\">\n",
       "      <th></th>\n",
       "      <th>target</th>\n",
       "    </tr>\n",
       "    <tr>\n",
       "      <th>id</th>\n",
       "      <th></th>\n",
       "    </tr>\n",
       "  </thead>\n",
       "  <tbody>\n",
       "    <tr>\n",
       "      <th>0</th>\n",
       "      <td>0.0364</td>\n",
       "    </tr>\n",
       "    <tr>\n",
       "      <th>1</th>\n",
       "      <td>0.0364</td>\n",
       "    </tr>\n",
       "    <tr>\n",
       "      <th>2</th>\n",
       "      <td>0.0364</td>\n",
       "    </tr>\n",
       "    <tr>\n",
       "      <th>3</th>\n",
       "      <td>0.0364</td>\n",
       "    </tr>\n",
       "    <tr>\n",
       "      <th>4</th>\n",
       "      <td>0.0364</td>\n",
       "    </tr>\n",
       "  </tbody>\n",
       "</table>\n",
       "</div>"
      ],
      "text/plain": [
       "    target\n",
       "id        \n",
       "0   0.0364\n",
       "1   0.0364\n",
       "2   0.0364\n",
       "3   0.0364\n",
       "4   0.0364"
      ]
     },
     "execution_count": 7,
     "metadata": {},
     "output_type": "execute_result"
    }
   ],
   "source": [
    "submission.head()"
   ]
  },
  {
   "cell_type": "code",
   "execution_count": 8,
   "id": "b6b8b3e8",
   "metadata": {
    "execution": {
     "iopub.execute_input": "2023-03-07T06:05:09.085917Z",
     "iopub.status.busy": "2023-03-07T06:05:09.085389Z",
     "iopub.status.idle": "2023-03-07T06:05:09.182467Z",
     "shell.execute_reply": "2023-03-07T06:05:09.181138Z"
    },
    "papermill": {
     "duration": 0.110832,
     "end_time": "2023-03-07T06:05:09.185693",
     "exception": false,
     "start_time": "2023-03-07T06:05:09.074861",
     "status": "completed"
    },
    "tags": []
   },
   "outputs": [],
   "source": [
    "target = train[\"target\"]\n",
    "train = train.drop(\"target\", axis=\"columns\")"
   ]
  },
  {
   "cell_type": "markdown",
   "id": "db6edc8c",
   "metadata": {
    "papermill": {
     "duration": 0.00905,
     "end_time": "2023-03-07T06:05:09.203705",
     "exception": false,
     "start_time": "2023-03-07T06:05:09.194655",
     "status": "completed"
    },
    "tags": []
   },
   "source": [
    "<div style=\"color:white;display:fill;\n",
    "            background-color:#48AFFF;font-size:160%;\n",
    "            font-family:Arial\">\n",
    "    <p style=\"padding: 4px;color:white;\"><b>2.3 Dropping the calc features</b></p>\n",
    "</div>\n",
    "\n",
    "We are dropping the calc features as discussed here: [Why removing ps_calc features improve the results?](https://www.kaggle.com/competitions/porto-seguro-safe-driver-prediction/discussion/41970)"
   ]
  },
  {
   "cell_type": "code",
   "execution_count": 9,
   "id": "b89e1eee",
   "metadata": {
    "execution": {
     "iopub.execute_input": "2023-03-07T06:05:09.223990Z",
     "iopub.status.busy": "2023-03-07T06:05:09.223491Z",
     "iopub.status.idle": "2023-03-07T06:05:09.382423Z",
     "shell.execute_reply": "2023-03-07T06:05:09.381068Z"
    },
    "papermill": {
     "duration": 0.172676,
     "end_time": "2023-03-07T06:05:09.385691",
     "exception": false,
     "start_time": "2023-03-07T06:05:09.213015",
     "status": "completed"
    },
    "tags": []
   },
   "outputs": [],
   "source": [
    "train = train.drop(calc_features, axis=\"columns\")\n",
    "test = test.drop(calc_features, axis=\"columns\")"
   ]
  },
  {
   "cell_type": "markdown",
   "id": "8e0f62b9",
   "metadata": {
    "papermill": {
     "duration": 0.008526,
     "end_time": "2023-03-07T06:05:09.403311",
     "exception": false,
     "start_time": "2023-03-07T06:05:09.394785",
     "status": "completed"
    },
    "tags": []
   },
   "source": [
    "<div style=\"color:white;display:fill;\n",
    "            background-color:#48AFFF;font-size:160%;\n",
    "            font-family:Arial\">\n",
    "    <p style=\"padding: 4px;color:white;\"><b>2.4 One-hot Encoding</b></p>\n",
    "</div>"
   ]
  },
  {
   "cell_type": "code",
   "execution_count": 10,
   "id": "2ed76d97",
   "metadata": {
    "execution": {
     "iopub.execute_input": "2023-03-07T06:05:09.424022Z",
     "iopub.status.busy": "2023-03-07T06:05:09.423473Z",
     "iopub.status.idle": "2023-03-07T06:05:10.483712Z",
     "shell.execute_reply": "2023-03-07T06:05:10.482466Z"
    },
    "papermill": {
     "duration": 1.074006,
     "end_time": "2023-03-07T06:05:10.486786",
     "exception": false,
     "start_time": "2023-03-07T06:05:09.412780",
     "status": "completed"
    },
    "tags": []
   },
   "outputs": [],
   "source": [
    "train = pd.get_dummies(train, columns=cat_features)\n",
    "test = pd.get_dummies(test, columns=cat_features)"
   ]
  },
  {
   "cell_type": "code",
   "execution_count": 11,
   "id": "ff3489c7",
   "metadata": {
    "execution": {
     "iopub.execute_input": "2023-03-07T06:05:10.508032Z",
     "iopub.status.busy": "2023-03-07T06:05:10.506973Z",
     "iopub.status.idle": "2023-03-07T06:05:10.513990Z",
     "shell.execute_reply": "2023-03-07T06:05:10.512552Z"
    },
    "papermill": {
     "duration": 0.020953,
     "end_time": "2023-03-07T06:05:10.516876",
     "exception": false,
     "start_time": "2023-03-07T06:05:10.495923",
     "status": "completed"
    },
    "tags": []
   },
   "outputs": [],
   "source": [
    "assert((train.columns==test.columns).all())"
   ]
  },
  {
   "cell_type": "markdown",
   "id": "7bf87e86",
   "metadata": {
    "papermill": {
     "duration": 0.009127,
     "end_time": "2023-03-07T06:05:10.534972",
     "exception": false,
     "start_time": "2023-03-07T06:05:10.525845",
     "status": "completed"
    },
    "tags": []
   },
   "source": [
    "# 3. Evaluation Metric\n",
    "\n",
    "<div style=\"color:white;display:fill;\n",
    "            background-color:#48AFFF;font-size:160%;\n",
    "            font-family:Arial\">\n",
    "    <p style=\"padding: 4px;color:white;\"><b>3.1 Normalized Gini Coefficient</b></p>\n",
    "</div>"
   ]
  },
  {
   "cell_type": "code",
   "execution_count": 12,
   "id": "373bdcd7",
   "metadata": {
    "execution": {
     "iopub.execute_input": "2023-03-07T06:05:10.556242Z",
     "iopub.status.busy": "2023-03-07T06:05:10.555145Z",
     "iopub.status.idle": "2023-03-07T06:05:10.833604Z",
     "shell.execute_reply": "2023-03-07T06:05:10.832250Z"
    },
    "papermill": {
     "duration": 0.292817,
     "end_time": "2023-03-07T06:05:10.837021",
     "exception": false,
     "start_time": "2023-03-07T06:05:10.544204",
     "status": "completed"
    },
    "tags": []
   },
   "outputs": [],
   "source": [
    "@jit\n",
    "def eval_gini(y_true, y_pred):\n",
    "    y_true = np.asarray(y_true)\n",
    "    y_true = y_true[np.argsort(y_pred)]\n",
    "    ntrue = 0\n",
    "    gini = 0\n",
    "    delta = 0\n",
    "    n = len(y_true)\n",
    "    for i in range(n-1, -1, -1):\n",
    "        y_i = y_true[i]\n",
    "        ntrue += y_i\n",
    "        gini += y_i * delta\n",
    "        delta += 1 - y_i\n",
    "    gini = 1 - 2 * gini / (ntrue * (n - ntrue))\n",
    "    return gini"
   ]
  },
  {
   "cell_type": "code",
   "execution_count": 13,
   "id": "dc3808ab",
   "metadata": {
    "execution": {
     "iopub.execute_input": "2023-03-07T06:05:10.857209Z",
     "iopub.status.busy": "2023-03-07T06:05:10.856308Z",
     "iopub.status.idle": "2023-03-07T06:05:10.862683Z",
     "shell.execute_reply": "2023-03-07T06:05:10.861484Z"
    },
    "papermill": {
     "duration": 0.019561,
     "end_time": "2023-03-07T06:05:10.865419",
     "exception": false,
     "start_time": "2023-03-07T06:05:10.845858",
     "status": "completed"
    },
    "tags": []
   },
   "outputs": [],
   "source": [
    "def gini_lgb(y_true, y_pred):\n",
    "    eval_name = 'normalized_gini_coef'\n",
    "    eval_result = eval_gini(y_true, y_pred)\n",
    "    is_higher_better = True\n",
    "    return eval_name, eval_result, is_higher_better"
   ]
  },
  {
   "cell_type": "markdown",
   "id": "938d1c5b",
   "metadata": {
    "papermill": {
     "duration": 0.008316,
     "end_time": "2023-03-07T06:05:10.882615",
     "exception": false,
     "start_time": "2023-03-07T06:05:10.874299",
     "status": "completed"
    },
    "tags": []
   },
   "source": [
    "The training parameters as suggested by [Michael Jahrer](https://www.kaggle.com/mjahrer) in his discussion post [(1st place with representation learning)](https://www.kaggle.com/competitions/porto-seguro-safe-driver-prediction/discussion/44629) work the best."
   ]
  },
  {
   "cell_type": "markdown",
   "id": "3644bd15",
   "metadata": {
    "papermill": {
     "duration": 0.008413,
     "end_time": "2023-03-07T06:05:10.899890",
     "exception": false,
     "start_time": "2023-03-07T06:05:10.891477",
     "status": "completed"
    },
    "tags": []
   },
   "source": [
    "<div style=\"color:white;display:fill;\n",
    "            background-color:#48AFFF;font-size:160%;\n",
    "            font-family:Arial\">\n",
    "    <p style=\"padding: 4px;color:white;\"><b>3.2 Search by Optuna</b></p>\n",
    "</div>\n",
    "\n",
    "We perform a search with [optuna]( https://optuna.org/) to automate our hyperparameter search and assign them to config.params. If the optuna_lgb flag is set to False, we use the params set in the config class."
   ]
  },
  {
   "cell_type": "code",
   "execution_count": 14,
   "id": "6e815ca0",
   "metadata": {
    "execution": {
     "iopub.execute_input": "2023-03-07T06:05:10.919495Z",
     "iopub.status.busy": "2023-03-07T06:05:10.919001Z",
     "iopub.status.idle": "2023-03-07T06:05:10.933743Z",
     "shell.execute_reply": "2023-03-07T06:05:10.932449Z"
    },
    "papermill": {
     "duration": 0.028014,
     "end_time": "2023-03-07T06:05:10.936604",
     "exception": false,
     "start_time": "2023-03-07T06:05:10.908590",
     "status": "completed"
    },
    "tags": []
   },
   "outputs": [],
   "source": [
    " if config.optuna_lgb:\n",
    "        \n",
    "    def objective(trial):\n",
    "        params = {\n",
    "                'learning_rate': trial.suggest_float(\"learning_rate\", 0.01, 1.0),\n",
    "                'num_leaves': trial.suggest_int(\"num_leaves\", 3, 255),\n",
    "                'min_child_samples': trial.suggest_int(\"min_child_samples\", 3, 3000),\n",
    "                'colsample_bytree': trial.suggest_float(\"colsample_bytree\", 0.1, 1.0),\n",
    "                'subsample_freq': trial.suggest_int(\"subsample_freq\", 0, 10),\n",
    "                'subsample': trial.suggest_float(\"subsample\", 0.1, 1.0),\n",
    "                'reg_alpha': trial.suggest_loguniform(\"reg_alpha\", 1e-9, 10.0),\n",
    "                'reg_lambda': trial.suggest_loguniform(\"reg_lambda\", 1e-9, 10.0),\n",
    "        }\n",
    "        \n",
    "        score = list()\n",
    "        skf = StratifiedKFold(n_splits=config.cv_folds, shuffle=True, random_state=config.random_state)\n",
    "\n",
    "        for train_idx, valid_idx in skf.split(train, target):\n",
    "            X_train, y_train = train.iloc[train_idx], target.iloc[train_idx]\n",
    "            X_valid, y_valid = train.iloc[valid_idx], target.iloc[valid_idx]\n",
    "\n",
    "            model = lgb.LGBMClassifier(**params,\n",
    "                                    n_estimators=1500,\n",
    "                                    early_stopping_round=150,\n",
    "                                    force_row_wise=True)\n",
    "\n",
    "            callbacks=[lgb.early_stopping(stopping_rounds=150, verbose=False)]\n",
    "            model.fit(X_train, y_train, eval_set=[(X_valid, y_valid)], eval_metric=gini_lgb, callbacks=callbacks)\n",
    "            score.append(model.best_score_['valid_0']['normalized_gini_coef'])\n",
    "\n",
    "        return np.mean(score)\n",
    "\n",
    "    study = optuna.create_study(direction=\"maximize\")\n",
    "    study.optimize(objective, n_trials=300)\n",
    "\n",
    "    print(\"Best Gini Normalized Score\", study.best_value)\n",
    "    print(\"Best parameters\", study.best_params)\n",
    "    \n",
    "    params = {'objective': 'binary',\n",
    "            'boosting_type': 'gbdt',\n",
    "            'verbosity': 0,\n",
    "            'random_state': 0}\n",
    "    \n",
    "    params.update(study.best_params)\n",
    "    \n",
    "else:\n",
    "    params = config.params"
   ]
  },
  {
   "cell_type": "markdown",
   "id": "d1395214",
   "metadata": {
    "papermill": {
     "duration": 0.008999,
     "end_time": "2023-03-07T06:05:10.954513",
     "exception": false,
     "start_time": "2023-03-07T06:05:10.945514",
     "status": "completed"
    },
    "tags": []
   },
   "source": [
    "# 4. Training and Submission\n",
    "\n",
    "<div style=\"color:white;display:fill;\n",
    "            background-color:#48AFFF;font-size:160%;\n",
    "            font-family:Arial\">\n",
    "    <p style=\"padding: 4px;color:white;\"><b>4.1 Training</b></p>\n",
    "</div>"
   ]
  },
  {
   "cell_type": "code",
   "execution_count": 15,
   "id": "7351c18d",
   "metadata": {
    "execution": {
     "iopub.execute_input": "2023-03-07T06:05:10.974239Z",
     "iopub.status.busy": "2023-03-07T06:05:10.973740Z",
     "iopub.status.idle": "2023-03-07T06:17:08.642217Z",
     "shell.execute_reply": "2023-03-07T06:17:08.641122Z"
    },
    "papermill": {
     "duration": 717.681908,
     "end_time": "2023-03-07T06:17:08.645245",
     "exception": false,
     "start_time": "2023-03-07T06:05:10.963337",
     "status": "completed"
    },
    "tags": []
   },
   "outputs": [
    {
     "name": "stdout",
     "output_type": "stream",
     "text": [
      "CV fold 0\n",
      "Training until validation scores don't improve for 150 rounds\n",
      "[100]\tvalid_0's binary_logloss: 0.153063\tvalid_0's normalized_gini_coef: 0.273457\n",
      "[200]\tvalid_0's binary_logloss: 0.152135\tvalid_0's normalized_gini_coef: 0.282336\n",
      "[300]\tvalid_0's binary_logloss: 0.151753\tvalid_0's normalized_gini_coef: 0.288449\n",
      "[400]\tvalid_0's binary_logloss: 0.151567\tvalid_0's normalized_gini_coef: 0.291844\n",
      "[500]\tvalid_0's binary_logloss: 0.151472\tvalid_0's normalized_gini_coef: 0.293402\n",
      "[600]\tvalid_0's binary_logloss: 0.151429\tvalid_0's normalized_gini_coef: 0.294205\n",
      "[700]\tvalid_0's binary_logloss: 0.151381\tvalid_0's normalized_gini_coef: 0.295304\n",
      "[800]\tvalid_0's binary_logloss: 0.151377\tvalid_0's normalized_gini_coef: 0.295314\n",
      "[900]\tvalid_0's binary_logloss: 0.15138\tvalid_0's normalized_gini_coef: 0.295206\n",
      "Early stopping, best iteration is:\n",
      "[767]\tvalid_0's binary_logloss: 0.151374\tvalid_0's normalized_gini_coef: 0.295421\n",
      "CV fold 1\n",
      "Training until validation scores don't improve for 150 rounds\n",
      "[100]\tvalid_0's binary_logloss: 0.153406\tvalid_0's normalized_gini_coef: 0.255693\n",
      "[200]\tvalid_0's binary_logloss: 0.152695\tvalid_0's normalized_gini_coef: 0.26144\n",
      "[300]\tvalid_0's binary_logloss: 0.152458\tvalid_0's normalized_gini_coef: 0.265336\n",
      "[400]\tvalid_0's binary_logloss: 0.152376\tvalid_0's normalized_gini_coef: 0.266982\n",
      "[500]\tvalid_0's binary_logloss: 0.152341\tvalid_0's normalized_gini_coef: 0.268101\n",
      "[600]\tvalid_0's binary_logloss: 0.152325\tvalid_0's normalized_gini_coef: 0.268747\n",
      "[700]\tvalid_0's binary_logloss: 0.152313\tvalid_0's normalized_gini_coef: 0.269111\n",
      "[800]\tvalid_0's binary_logloss: 0.152314\tvalid_0's normalized_gini_coef: 0.269248\n",
      "[900]\tvalid_0's binary_logloss: 0.152323\tvalid_0's normalized_gini_coef: 0.269105\n",
      "Early stopping, best iteration is:\n",
      "[828]\tvalid_0's binary_logloss: 0.152309\tvalid_0's normalized_gini_coef: 0.269449\n",
      "CV fold 2\n",
      "Training until validation scores don't improve for 150 rounds\n",
      "[100]\tvalid_0's binary_logloss: 0.153355\tvalid_0's normalized_gini_coef: 0.251615\n",
      "[200]\tvalid_0's binary_logloss: 0.152566\tvalid_0's normalized_gini_coef: 0.261894\n",
      "[300]\tvalid_0's binary_logloss: 0.152241\tvalid_0's normalized_gini_coef: 0.268859\n",
      "[400]\tvalid_0's binary_logloss: 0.152103\tvalid_0's normalized_gini_coef: 0.271929\n",
      "[500]\tvalid_0's binary_logloss: 0.152033\tvalid_0's normalized_gini_coef: 0.273831\n",
      "[600]\tvalid_0's binary_logloss: 0.152005\tvalid_0's normalized_gini_coef: 0.274555\n",
      "[700]\tvalid_0's binary_logloss: 0.151974\tvalid_0's normalized_gini_coef: 0.275377\n",
      "[800]\tvalid_0's binary_logloss: 0.151958\tvalid_0's normalized_gini_coef: 0.275941\n",
      "[900]\tvalid_0's binary_logloss: 0.151954\tvalid_0's normalized_gini_coef: 0.27592\n",
      "[1000]\tvalid_0's binary_logloss: 0.151949\tvalid_0's normalized_gini_coef: 0.276071\n",
      "[1100]\tvalid_0's binary_logloss: 0.151951\tvalid_0's normalized_gini_coef: 0.276059\n",
      "Early stopping, best iteration is:\n",
      "[1037]\tvalid_0's binary_logloss: 0.151945\tvalid_0's normalized_gini_coef: 0.276145\n",
      "CV fold 3\n",
      "Training until validation scores don't improve for 150 rounds\n",
      "[100]\tvalid_0's binary_logloss: 0.152939\tvalid_0's normalized_gini_coef: 0.287065\n",
      "[200]\tvalid_0's binary_logloss: 0.151924\tvalid_0's normalized_gini_coef: 0.297348\n",
      "[300]\tvalid_0's binary_logloss: 0.151467\tvalid_0's normalized_gini_coef: 0.304137\n",
      "[400]\tvalid_0's binary_logloss: 0.151232\tvalid_0's normalized_gini_coef: 0.30845\n",
      "[500]\tvalid_0's binary_logloss: 0.151096\tvalid_0's normalized_gini_coef: 0.311112\n",
      "[600]\tvalid_0's binary_logloss: 0.151025\tvalid_0's normalized_gini_coef: 0.312369\n",
      "[700]\tvalid_0's binary_logloss: 0.150977\tvalid_0's normalized_gini_coef: 0.313215\n",
      "[800]\tvalid_0's binary_logloss: 0.150944\tvalid_0's normalized_gini_coef: 0.313632\n",
      "[900]\tvalid_0's binary_logloss: 0.150929\tvalid_0's normalized_gini_coef: 0.313777\n",
      "[1000]\tvalid_0's binary_logloss: 0.150915\tvalid_0's normalized_gini_coef: 0.314075\n",
      "[1100]\tvalid_0's binary_logloss: 0.150902\tvalid_0's normalized_gini_coef: 0.314244\n",
      "[1200]\tvalid_0's binary_logloss: 0.150902\tvalid_0's normalized_gini_coef: 0.31408\n",
      "Early stopping, best iteration is:\n",
      "[1139]\tvalid_0's binary_logloss: 0.150897\tvalid_0's normalized_gini_coef: 0.314349\n",
      "CV fold 4\n",
      "Training until validation scores don't improve for 150 rounds\n",
      "[100]\tvalid_0's binary_logloss: 0.153288\tvalid_0's normalized_gini_coef: 0.259806\n",
      "[200]\tvalid_0's binary_logloss: 0.152459\tvalid_0's normalized_gini_coef: 0.268794\n",
      "[300]\tvalid_0's binary_logloss: 0.152084\tvalid_0's normalized_gini_coef: 0.275653\n",
      "[400]\tvalid_0's binary_logloss: 0.151898\tvalid_0's normalized_gini_coef: 0.279602\n",
      "[500]\tvalid_0's binary_logloss: 0.151809\tvalid_0's normalized_gini_coef: 0.281507\n",
      "[600]\tvalid_0's binary_logloss: 0.151739\tvalid_0's normalized_gini_coef: 0.283436\n",
      "[700]\tvalid_0's binary_logloss: 0.151712\tvalid_0's normalized_gini_coef: 0.284213\n",
      "[800]\tvalid_0's binary_logloss: 0.151692\tvalid_0's normalized_gini_coef: 0.284861\n",
      "[900]\tvalid_0's binary_logloss: 0.151692\tvalid_0's normalized_gini_coef: 0.284925\n",
      "[1000]\tvalid_0's binary_logloss: 0.151689\tvalid_0's normalized_gini_coef: 0.28521\n",
      "[1100]\tvalid_0's binary_logloss: 0.151679\tvalid_0's normalized_gini_coef: 0.285696\n",
      "[1200]\tvalid_0's binary_logloss: 0.151681\tvalid_0's normalized_gini_coef: 0.285584\n"
     ]
    }
   ],
   "source": [
    "preds = np.zeros(len(test))\n",
    "oof = np.zeros(len(train))\n",
    "metric_evaluations = list()\n",
    "\n",
    "skf = StratifiedKFold(n_splits=config.cv_folds, shuffle=True, random_state=config.random_state)\n",
    "\n",
    "for idx, (train_idx, valid_idx) in enumerate(skf.split(train, target)):\n",
    "    print(f\"CV fold {idx}\")\n",
    "    X_train, y_train = train.iloc[train_idx], target.iloc[train_idx]\n",
    "    X_valid, y_valid = train.iloc[valid_idx], target.iloc[valid_idx]\n",
    "    \n",
    "    model = lgb.LGBMClassifier(**params,\n",
    "                               n_estimators=config.n_estimators,\n",
    "                               early_stopping_round=config.early_stopping_round,\n",
    "                               force_row_wise=True)\n",
    "    \n",
    "    callbacks=[lgb.early_stopping(stopping_rounds=150), \n",
    "               lgb.log_evaluation(period=100, show_stdv=False)]\n",
    "                                                                                           \n",
    "    model.fit(X_train, y_train, eval_set=[(X_valid, y_valid)], eval_metric=gini_lgb, callbacks=callbacks)\n",
    "    metric_evaluations.append(model.best_score_['valid_0']['normalized_gini_coef'])\n",
    "    preds += model.predict_proba(test, num_iteration=model.best_iteration_)[:,1] / skf.n_splits\n",
    "    oof[valid_idx] = model.predict_proba(X_valid, num_iteration=model.best_iteration_)[:,1]"
   ]
  },
  {
   "cell_type": "code",
   "execution_count": 16,
   "id": "d3749a63",
   "metadata": {
    "execution": {
     "iopub.execute_input": "2023-03-07T06:17:08.674612Z",
     "iopub.status.busy": "2023-03-07T06:17:08.673698Z",
     "iopub.status.idle": "2023-03-07T06:17:08.680218Z",
     "shell.execute_reply": "2023-03-07T06:17:08.679132Z"
    },
    "papermill": {
     "duration": 0.024638,
     "end_time": "2023-03-07T06:17:08.682960",
     "exception": false,
     "start_time": "2023-03-07T06:17:08.658322",
     "status": "completed"
    },
    "tags": []
   },
   "outputs": [
    {
     "name": "stdout",
     "output_type": "stream",
     "text": [
      "LightGBM CV Gini Normalized Score: 0.288 (0.016)\n"
     ]
    }
   ],
   "source": [
    "print(f\"LightGBM CV Gini Normalized Score: {np.mean(metric_evaluations):0.3f} ({np.std(metric_evaluations):0.3f})\")"
   ]
  },
  {
   "cell_type": "markdown",
   "id": "6dcbcb81",
   "metadata": {
    "papermill": {
     "duration": 0.012364,
     "end_time": "2023-03-07T06:17:08.708377",
     "exception": false,
     "start_time": "2023-03-07T06:17:08.696013",
     "status": "completed"
    },
    "tags": []
   },
   "source": [
    "<div style=\"color:white;display:fill;\n",
    "            background-color:#48AFFF;font-size:160%;\n",
    "            font-family:Arial\">\n",
    "    <p style=\"padding: 4px;color:white;\"><b>4.2 Submission</b></p>\n",
    "</div>\n",
    "\n",
    "Saving the submission to the required (according to the competitions evaluation page) submission.csv file."
   ]
  },
  {
   "cell_type": "code",
   "execution_count": 17,
   "id": "3caf08ad",
   "metadata": {
    "execution": {
     "iopub.execute_input": "2023-03-07T06:17:08.736909Z",
     "iopub.status.busy": "2023-03-07T06:17:08.735884Z",
     "iopub.status.idle": "2023-03-07T06:17:10.966707Z",
     "shell.execute_reply": "2023-03-07T06:17:10.965646Z"
    },
    "papermill": {
     "duration": 2.248704,
     "end_time": "2023-03-07T06:17:10.969778",
     "exception": false,
     "start_time": "2023-03-07T06:17:08.721074",
     "status": "completed"
    },
    "tags": []
   },
   "outputs": [],
   "source": [
    "submission['target'] = preds\n",
    "submission.to_csv('submission.csv')"
   ]
  },
  {
   "cell_type": "code",
   "execution_count": 18,
   "id": "d226ccb5",
   "metadata": {
    "execution": {
     "iopub.execute_input": "2023-03-07T06:17:10.999194Z",
     "iopub.status.busy": "2023-03-07T06:17:10.998311Z",
     "iopub.status.idle": "2023-03-07T06:17:12.484366Z",
     "shell.execute_reply": "2023-03-07T06:17:12.483010Z"
    },
    "papermill": {
     "duration": 1.503846,
     "end_time": "2023-03-07T06:17:12.487552",
     "exception": false,
     "start_time": "2023-03-07T06:17:10.983706",
     "status": "completed"
    },
    "tags": []
   },
   "outputs": [],
   "source": [
    "oofs = target.to_frame()\n",
    "oofs['target'] = oof\n",
    "oofs.to_csv('lgb_oof.csv')"
   ]
  },
  {
   "cell_type": "markdown",
   "id": "3c6de9a2",
   "metadata": {
    "papermill": {
     "duration": 0.012514,
     "end_time": "2023-03-07T06:17:12.513284",
     "exception": false,
     "start_time": "2023-03-07T06:17:12.500770",
     "status": "completed"
    },
    "tags": []
   },
   "source": [
    "Saving the out-of-fold predictions for later blending with other models."
   ]
  },
  {
   "cell_type": "markdown",
   "id": "9c5be0e3",
   "metadata": {
    "papermill": {
     "duration": 0.012618,
     "end_time": "2023-03-07T06:17:12.540415",
     "exception": false,
     "start_time": "2023-03-07T06:17:12.527797",
     "status": "completed"
    },
    "tags": []
   },
   "source": [
    "# 5. References\n",
    "\n",
    "<div style=\"color:white;display:fill;\n",
    "            background-color:#48AFFF;font-size:160%;\n",
    "            font-family:Arial\">\n",
    "    <p style=\"padding: 4px;color:white;\"><b>5.1 References</b></p>\n",
    "</div>\n",
    "\n",
    "* Banachewicz, Konrad; Massaron, Luca. [The Kaggle Book](https://www.kaggle.com/general/320574): Data analysis and machine learning for competitive data science. Packt Publishing\n",
    "* Banachewicz, Konrad; Massaron, Luca. [The Kaggle Workbook](https://www.amazon.com/Kaggle-Workbook-Self-learning-exercises-competitions/dp/1804611212): Self-learning exercises and valuable insights for Kaggle data science competitions. Packt Publishing. \n",
    "* [workbook_lgb](https://www.kaggle.com/code/lucamassaron/workbook-lgb) by [Luca Massaron](https://www.kaggle.com/lucamassaron)\n",
    "* [Why removing ps_calc features improve the results?](https://www.kaggle.com/competitions/porto-seguro-safe-driver-prediction/discussion/41970) by [Hossein Amirkhani](https://www.kaggle.com/hatime)\n",
    "* [1st place with representation learning](https://www.kaggle.com/competitions/porto-seguro-safe-driver-prediction/discussion/44629) by [Michael Jahrer](https://www.kaggle.com/mjahrer) \n",
    "* [Optuna]( https://optuna.org/) (An open source hyperparameter optimization framework to automate hyperparameter search)"
   ]
  },
  {
   "cell_type": "code",
   "execution_count": null,
   "id": "5b95893f",
   "metadata": {
    "papermill": {
     "duration": 0.01254,
     "end_time": "2023-03-07T06:17:12.566169",
     "exception": false,
     "start_time": "2023-03-07T06:17:12.553629",
     "status": "completed"
    },
    "tags": []
   },
   "outputs": [],
   "source": []
  }
 ],
 "metadata": {
  "kernelspec": {
   "display_name": "Python 3",
   "language": "python",
   "name": "python3"
  },
  "language_info": {
   "codemirror_mode": {
    "name": "ipython",
    "version": 3
   },
   "file_extension": ".py",
   "mimetype": "text/x-python",
   "name": "python",
   "nbconvert_exporter": "python",
   "pygments_lexer": "ipython3",
   "version": "3.7.12"
  },
  "papermill": {
   "default_parameters": {},
   "duration": 753.736831,
   "end_time": "2023-03-07T06:17:13.708919",
   "environment_variables": {},
   "exception": null,
   "input_path": "__notebook__.ipynb",
   "output_path": "__notebook__.ipynb",
   "parameters": {},
   "start_time": "2023-03-07T06:04:39.972088",
   "version": "2.4.0"
  }
 },
 "nbformat": 4,
 "nbformat_minor": 5
}
