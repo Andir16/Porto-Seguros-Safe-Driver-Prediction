{
 "cells": [
  {
   "cell_type": "markdown",
   "id": "60bbeb67",
   "metadata": {
    "papermill": {
     "duration": 0.003433,
     "end_time": "2023-03-04T17:15:29.711078",
     "exception": false,
     "start_time": "2023-03-04T17:15:29.707645",
     "status": "completed"
    },
    "tags": []
   },
   "source": [
    "# 1. Introduction\n",
    "\n",
    "<div style=\"color:white;display:fill;\n",
    "            background-color:#48AFFF;font-size:160%;\n",
    "            font-family:Arial\">\n",
    "    <p style=\"padding: 4px;color:white;\"><b>1.1 Context</b></p>\n",
    "</div>\n",
    "\n",
    "LightGBM implemenation for the Porto Seguro's Safe Driver Prediction competition."
   ]
  },
  {
   "cell_type": "markdown",
   "id": "c0bb7b88",
   "metadata": {
    "papermill": {
     "duration": 0.001949,
     "end_time": "2023-03-04T17:15:29.715648",
     "exception": false,
     "start_time": "2023-03-04T17:15:29.713699",
     "status": "completed"
    },
    "tags": []
   },
   "source": [
    "<div style=\"color:white;display:fill;\n",
    "            background-color:#48AFFF;font-size:160%;\n",
    "            font-family:Arial\">\n",
    "    <p style=\"padding: 4px;color:white;\"><b>1.2 Used code</b></p>\n",
    "</div>\n",
    "\n",
    "The code used is adapted from the chapter on adversarial validation in [The Kaggle Workbook](https://www.amazon.com/Kaggle-Workbook-Self-learning-exercises-competitions/dp/1804611212) by [(Banachewicz & Massaron)](#3.-References)."
   ]
  },
  {
   "cell_type": "markdown",
   "id": "9909cd70",
   "metadata": {
    "papermill": {
     "duration": 0.001898,
     "end_time": "2023-03-04T17:15:29.719769",
     "exception": false,
     "start_time": "2023-03-04T17:15:29.717871",
     "status": "completed"
    },
    "tags": []
   },
   "source": [
    "# 2. Implementation\n",
    "\n",
    "<div style=\"color:white;display:fill;\n",
    "            background-color:#48AFFF;font-size:160%;\n",
    "            font-family:Arial\">\n",
    "    <p style=\"padding: 4px;color:white;\"><b>2.1 Libraries</b></p>\n",
    "</div>\n"
   ]
  },
  {
   "cell_type": "code",
   "execution_count": null,
   "id": "cc13cb4f",
   "metadata": {
    "papermill": {
     "duration": 0.002064,
     "end_time": "2023-03-04T17:15:29.723944",
     "exception": false,
     "start_time": "2023-03-04T17:15:29.721880",
     "status": "completed"
    },
    "tags": []
   },
   "outputs": [],
   "source": []
  },
  {
   "cell_type": "markdown",
   "id": "e3f6590b",
   "metadata": {
    "papermill": {
     "duration": 0.001828,
     "end_time": "2023-03-04T17:15:29.727929",
     "exception": false,
     "start_time": "2023-03-04T17:15:29.726101",
     "status": "completed"
    },
    "tags": []
   },
   "source": [
    "# 3. References\n",
    "\n",
    "<div style=\"color:white;display:fill;\n",
    "            background-color:#48AFFF;font-size:160%;\n",
    "            font-family:Arial\">\n",
    "    <p style=\"padding: 4px;color:white;\"><b>3.1 References</b></p>\n",
    "</div>\n",
    "\n",
    "* Banachewicz, Konrad; Massaron, Luca. [The Kaggle Book](https://www.kaggle.com/general/320574): Data analysis and machine learning for competitive data science. Packt Publishing\n",
    "* Banachewicz, Konrad; Massaron, Luca. [The Kaggle Workbook](https://www.amazon.com/Kaggle-Workbook-Self-learning-exercises-competitions/dp/1804611212): Self-learning exercises and valuable insights for Kaggle data science competitions. Packt Publishing. \n",
    "* [workbook_lgb](https://www.kaggle.com/code/lucamassaron/workbook-lgb) by [Luca Massaron](https://www.kaggle.com/lucamassaron)"
   ]
  },
  {
   "cell_type": "code",
   "execution_count": null,
   "id": "679af729",
   "metadata": {
    "papermill": {
     "duration": 0.001754,
     "end_time": "2023-03-04T17:15:29.731733",
     "exception": false,
     "start_time": "2023-03-04T17:15:29.729979",
     "status": "completed"
    },
    "tags": []
   },
   "outputs": [],
   "source": []
  }
 ],
 "metadata": {
  "kernelspec": {
   "display_name": "Python 3",
   "language": "python",
   "name": "python3"
  },
  "language_info": {
   "codemirror_mode": {
    "name": "ipython",
    "version": 3
   },
   "file_extension": ".py",
   "mimetype": "text/x-python",
   "name": "python",
   "nbconvert_exporter": "python",
   "pygments_lexer": "ipython3",
   "version": "3.7.12"
  },
  "papermill": {
   "default_parameters": {},
   "duration": 11.397621,
   "end_time": "2023-03-04T17:15:30.459524",
   "environment_variables": {},
   "exception": null,
   "input_path": "__notebook__.ipynb",
   "output_path": "__notebook__.ipynb",
   "parameters": {},
   "start_time": "2023-03-04T17:15:19.061903",
   "version": "2.4.0"
  }
 },
 "nbformat": 4,
 "nbformat_minor": 5
}
