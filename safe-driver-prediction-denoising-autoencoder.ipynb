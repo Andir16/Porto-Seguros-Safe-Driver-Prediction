{
 "cells": [
  {
   "cell_type": "markdown",
   "id": "0837ae9d",
   "metadata": {
    "papermill": {
     "duration": 0.003712,
     "end_time": "2023-03-08T12:46:46.515991",
     "exception": false,
     "start_time": "2023-03-08T12:46:46.512279",
     "status": "completed"
    },
    "tags": []
   },
   "source": [
    "# 1. Introduction\n",
    "\n",
    "<div style=\"color:white;display:fill;\n",
    "            background-color:#48AFFF;font-size:160%;\n",
    "            font-family:Arial\">\n",
    "    <p style=\"padding: 4px;color:white;\"><b>1.1 Context</b></p>\n",
    "</div>\n",
    "\n",
    "Denoising autoencoder implemenation for the Porto Seguro's Safe Driver Prediction competition."
   ]
  },
  {
   "cell_type": "markdown",
   "id": "9f23349a",
   "metadata": {
    "papermill": {
     "duration": 0.002293,
     "end_time": "2023-03-08T12:46:46.521328",
     "exception": false,
     "start_time": "2023-03-08T12:46:46.519035",
     "status": "completed"
    },
    "tags": []
   },
   "source": [
    "<div style=\"color:white;display:fill;\n",
    "            background-color:#48AFFF;font-size:160%;\n",
    "            font-family:Arial\">\n",
    "    <p style=\"padding: 4px;color:white;\"><b>1.2 Used code</b></p>\n",
    "</div>\n",
    "\n",
    "The code used is adapted from the chapter Setting up a denoising autoencoder and a DNN in [The Kaggle Workbook](https://www.amazon.com/Kaggle-Workbook-Self-learning-exercises-competitions/dp/1804611212) by [(Banachewicz & Massaron)](#5.-References) and directly from the workbook [workbook_dae](https://www.kaggle.com/code/lucamassaron/workbook-dae) by [Luca Massaron](https://www.kaggle.com/lucamassaron)."
   ]
  },
  {
   "cell_type": "markdown",
   "id": "5ac46ddd",
   "metadata": {
    "papermill": {
     "duration": 0.002009,
     "end_time": "2023-03-08T12:46:46.525763",
     "exception": false,
     "start_time": "2023-03-08T12:46:46.523754",
     "status": "completed"
    },
    "tags": []
   },
   "source": [
    "<div style=\"color:white;display:fill;\n",
    "            background-color:#48AFFF;font-size:160%;\n",
    "            font-family:Arial\">\n",
    "    <p style=\"padding: 4px;color:white;\"><b>1.3 Libraries</b></p>\n",
    "</div>"
   ]
  },
  {
   "cell_type": "code",
   "execution_count": 1,
   "id": "7881111e",
   "metadata": {
    "execution": {
     "iopub.execute_input": "2023-03-08T12:46:46.532983Z",
     "iopub.status.busy": "2023-03-08T12:46:46.532370Z",
     "iopub.status.idle": "2023-03-08T12:46:57.968077Z",
     "shell.execute_reply": "2023-03-08T12:46:57.966921Z"
    },
    "papermill": {
     "duration": 11.443391,
     "end_time": "2023-03-08T12:46:57.971367",
     "exception": false,
     "start_time": "2023-03-08T12:46:46.527976",
     "status": "completed"
    },
    "tags": []
   },
   "outputs": [],
   "source": [
    "import numpy as np\n",
    "import pandas as pd\n",
    "from matplotlib import pyplot as plt\n",
    "from path import Path\n",
    "import gc\n",
    "\n",
    "import optuna\n",
    "\n",
    "from sklearn.model_selection import StratifiedKFold\n",
    "\n",
    "from scipy.special import erfinv\n",
    "\n",
    "import tensorflow as tf\n",
    "gpus = tf.config.experimental.list_physical_devices('GPU')\n",
    "for gpu in gpus:\n",
    "    tf.config.experimental.set_memory_growth(gpu, True)\n",
    "\n",
    "from tensorflow import keras\n",
    "from tensorflow.keras import backend as K\n",
    "from tensorflow.keras.layers import Input, Dense, BatchNormalization, Dropout\n",
    "from tensorflow.keras.models import Model, load_model\n",
    "from tensorflow.keras.callbacks import EarlyStopping, ReduceLROnPlateau\n",
    "from tensorflow.keras.regularizers import l2\n",
    "from tensorflow.keras.metrics import AUC\n",
    "\n",
    "from tensorflow.keras.utils import get_custom_objects\n",
    "from tensorflow.keras.layers import Activation, LeakyReLU\n",
    "get_custom_objects().update({'leaky-relu': Activation(LeakyReLU(alpha=0.2))})"
   ]
  },
  {
   "cell_type": "markdown",
   "id": "2f062150",
   "metadata": {
    "papermill": {
     "duration": 0.003265,
     "end_time": "2023-03-08T12:46:57.981394",
     "exception": false,
     "start_time": "2023-03-08T12:46:57.978129",
     "status": "completed"
    },
    "tags": []
   },
   "source": [
    "# 2. Data Processing\n",
    "\n",
    "<div style=\"color:white;display:fill;\n",
    "            background-color:#48AFFF;font-size:160%;\n",
    "            font-family:Arial\">\n",
    "    <p style=\"padding: 4px;color:white;\"><b>2.1 Configuration Class</b></p>\n",
    "</div>\n",
    "\n",
    "For ease of use and modifiability we are using a config class. This allows us to have all parameters in one place and easily change them without having to go through the code having to look for changes we missed. "
   ]
  },
  {
   "cell_type": "markdown",
   "id": "c4345113",
   "metadata": {
    "papermill": {
     "duration": 0.002026,
     "end_time": "2023-03-08T12:46:57.986320",
     "exception": false,
     "start_time": "2023-03-08T12:46:57.984294",
     "status": "completed"
    },
    "tags": []
   },
   "source": [
    "# x. References\n",
    "\n",
    "<div style=\"color:white;display:fill;\n",
    "            background-color:#48AFFF;font-size:160%;\n",
    "            font-family:Arial\">\n",
    "    <p style=\"padding: 4px;color:white;\"><b>x.1 References</b></p>\n",
    "</div>\n",
    "\n",
    "* Banachewicz, Konrad; Massaron, Luca. [The Kaggle Book](https://www.kaggle.com/general/320574): Data analysis and machine learning for competitive data science. Packt Publishing\n",
    "* Banachewicz, Konrad; Massaron, Luca. [The Kaggle Workbook](https://www.amazon.com/Kaggle-Workbook-Self-learning-exercises-competitions/dp/1804611212): Self-learning exercises and valuable insights for Kaggle data science competitions. Packt Publishing. \n",
    "* [workbook_dae](https://www.kaggle.com/code/lucamassaron/workbook-dae) by [Luca Massaron](https://www.kaggle.com/lucamassaron)"
   ]
  },
  {
   "cell_type": "code",
   "execution_count": null,
   "id": "d3951b55",
   "metadata": {
    "papermill": {
     "duration": 0.002263,
     "end_time": "2023-03-08T12:46:57.991158",
     "exception": false,
     "start_time": "2023-03-08T12:46:57.988895",
     "status": "completed"
    },
    "tags": []
   },
   "outputs": [],
   "source": []
  }
 ],
 "metadata": {
  "kernelspec": {
   "display_name": "Python 3",
   "language": "python",
   "name": "python3"
  },
  "language_info": {
   "codemirror_mode": {
    "name": "ipython",
    "version": 3
   },
   "file_extension": ".py",
   "mimetype": "text/x-python",
   "name": "python",
   "nbconvert_exporter": "python",
   "pygments_lexer": "ipython3",
   "version": "3.7.12"
  },
  "papermill": {
   "default_parameters": {},
   "duration": 25.912739,
   "end_time": "2023-03-08T12:47:01.363983",
   "environment_variables": {},
   "exception": null,
   "input_path": "__notebook__.ipynb",
   "output_path": "__notebook__.ipynb",
   "parameters": {},
   "start_time": "2023-03-08T12:46:35.451244",
   "version": "2.4.0"
  }
 },
 "nbformat": 4,
 "nbformat_minor": 5
}
